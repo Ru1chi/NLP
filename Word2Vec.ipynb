{
  "nbformat": 4,
  "nbformat_minor": 0,
  "metadata": {
    "colab": {
      "provenance": [],
      "authorship_tag": "ABX9TyNBDiCuKn1SswZGtH/gzjEF",
      "include_colab_link": true
    },
    "kernelspec": {
      "name": "python3",
      "display_name": "Python 3"
    },
    "language_info": {
      "name": "python"
    }
  },
  "cells": [
    {
      "cell_type": "markdown",
      "metadata": {
        "id": "view-in-github",
        "colab_type": "text"
      },
      "source": [
        "<a href=\"https://colab.research.google.com/github/Ru1chi/NLP/blob/main/Word2Vec.ipynb\" target=\"_parent\"><img src=\"https://colab.research.google.com/assets/colab-badge.svg\" alt=\"Open In Colab\"/></a>"
      ]
    },
    {
      "cell_type": "code",
      "execution_count": 3,
      "metadata": {
        "colab": {
          "base_uri": "https://localhost:8080/"
        },
        "id": "iyRtqI3giML4",
        "outputId": "8eea1791-be3c-4002-cbf1-c8fba57fc01c"
      },
      "outputs": [
        {
          "output_type": "execute_result",
          "data": {
            "text/plain": [
              "['.config', 'my_folder', 'sample_data']"
            ]
          },
          "metadata": {},
          "execution_count": 3
        }
      ],
      "source": [
        "import os\n",
        "\n",
        "# Create a new folder named 'my_folder'\n",
        "os.makedirs('my_folder', exist_ok=True)\n",
        "\n",
        "# Verify the folder was created\n",
        "os.listdir()\n"
      ]
    },
    {
      "cell_type": "code",
      "source": [
        "import pandas as pd\n",
        "import numpy as np"
      ],
      "metadata": {
        "id": "UDDReLaViS1w"
      },
      "execution_count": 4,
      "outputs": []
    },
    {
      "cell_type": "code",
      "source": [
        "import gensim\n",
        "import os"
      ],
      "metadata": {
        "id": "z5idS10bjxhB"
      },
      "execution_count": 6,
      "outputs": []
    },
    {
      "cell_type": "code",
      "source": [
        "from nltk import sent_tokenize\n",
        "from gensim.utils import simple_preprocess\n",
        "import nltk\n",
        "nltk.download('punkt')"
      ],
      "metadata": {
        "colab": {
          "base_uri": "https://localhost:8080/"
        },
        "id": "rrlJc0fDj00E",
        "outputId": "59ae4ee7-a424-4a69-cccd-ea207c8ac1ee"
      },
      "execution_count": 10,
      "outputs": [
        {
          "output_type": "stream",
          "name": "stderr",
          "text": [
            "[nltk_data] Downloading package punkt to /root/nltk_data...\n",
            "[nltk_data]   Unzipping tokenizers/punkt.zip.\n"
          ]
        },
        {
          "output_type": "execute_result",
          "data": {
            "text/plain": [
              "True"
            ]
          },
          "metadata": {},
          "execution_count": 10
        }
      ]
    },
    {
      "cell_type": "code",
      "source": [
        "story=[]\n"
      ],
      "metadata": {
        "id": "tsHW7LcbkApj"
      },
      "execution_count": 11,
      "outputs": []
    },
    {
      "cell_type": "code",
      "source": [
        "for filename in os.listdir('my_folder'):\n",
        "    # Open the file with the correct encoding\n",
        "    with open(os.path.join('my_folder',filename), encoding='windows-1252') as f:\n",
        "        corpus=f.read()\n",
        "    raw_sent=sent_tokenize(corpus)#converting the string into sentenced tokens\n",
        "    for sent in raw_sent:\n",
        "        story.append(simple_preprocess(sent))"
      ],
      "metadata": {
        "id": "7JszqE9skkcc"
      },
      "execution_count": 13,
      "outputs": []
    },
    {
      "cell_type": "code",
      "source": [
        "len(story)"
      ],
      "metadata": {
        "colab": {
          "base_uri": "https://localhost:8080/"
        },
        "id": "UFHM2F9lk8vz",
        "outputId": "85672382-a4b9-4a65-e296-0dbfa56b1543"
      },
      "execution_count": 14,
      "outputs": [
        {
          "output_type": "execute_result",
          "data": {
            "text/plain": [
              "174912"
            ]
          },
          "metadata": {},
          "execution_count": 14
        }
      ]
    },
    {
      "cell_type": "code",
      "source": [
        "story[:10]"
      ],
      "metadata": {
        "colab": {
          "base_uri": "https://localhost:8080/"
        },
        "id": "whIWXd88lCqA",
        "outputId": "b2012ce5-d444-48f9-b943-1e592a9c143a"
      },
      "execution_count": 17,
      "outputs": [
        {
          "output_type": "execute_result",
          "data": {
            "text/plain": [
              "[['clash',\n",
              "  'of',\n",
              "  'kings',\n",
              "  'book',\n",
              "  'two',\n",
              "  'of',\n",
              "  'song',\n",
              "  'of',\n",
              "  'ice',\n",
              "  'and',\n",
              "  'fire',\n",
              "  'by',\n",
              "  'george',\n",
              "  'martin',\n",
              "  'prologue',\n",
              "  'the',\n",
              "  'comet',\n",
              "  'tail',\n",
              "  'spread',\n",
              "  'across',\n",
              "  'the',\n",
              "  'dawn',\n",
              "  'red',\n",
              "  'slash',\n",
              "  'that',\n",
              "  'bled',\n",
              "  'above',\n",
              "  'the',\n",
              "  'crags',\n",
              "  'of',\n",
              "  'dragonstone',\n",
              "  'like',\n",
              "  'wound',\n",
              "  'in',\n",
              "  'the',\n",
              "  'pink',\n",
              "  'and',\n",
              "  'purple',\n",
              "  'sky'],\n",
              " ['the',\n",
              "  'maester',\n",
              "  'stood',\n",
              "  'on',\n",
              "  'the',\n",
              "  'windswept',\n",
              "  'balcony',\n",
              "  'outside',\n",
              "  'his',\n",
              "  'chambers'],\n",
              " ['it', 'was', 'here', 'the', 'ravens', 'came', 'after', 'long', 'flight'],\n",
              " ['their',\n",
              "  'droppings',\n",
              "  'speckled',\n",
              "  'the',\n",
              "  'gargoyles',\n",
              "  'that',\n",
              "  'rose',\n",
              "  'twelve',\n",
              "  'feet',\n",
              "  'tall',\n",
              "  'on',\n",
              "  'either',\n",
              "  'side',\n",
              "  'of',\n",
              "  'him',\n",
              "  'hellhound',\n",
              "  'and',\n",
              "  'wyvern',\n",
              "  'two',\n",
              "  'of',\n",
              "  'the',\n",
              "  'thousand',\n",
              "  'that',\n",
              "  'brooded',\n",
              "  'over',\n",
              "  'the',\n",
              "  'walls',\n",
              "  'of',\n",
              "  'the',\n",
              "  'ancient',\n",
              "  'fortress'],\n",
              " ['when',\n",
              "  'first',\n",
              "  'he',\n",
              "  'came',\n",
              "  'to',\n",
              "  'dragonstone',\n",
              "  'the',\n",
              "  'army',\n",
              "  'of',\n",
              "  'stone',\n",
              "  'grotesques',\n",
              "  'had',\n",
              "  'made',\n",
              "  'him',\n",
              "  'uneasy',\n",
              "  'but',\n",
              "  'as',\n",
              "  'the',\n",
              "  'years',\n",
              "  'passed',\n",
              "  'he',\n",
              "  'had',\n",
              "  'grown',\n",
              "  'used',\n",
              "  'to',\n",
              "  'them'],\n",
              " ['now', 'he', 'thought', 'of', 'them', 'as', 'old', 'friends'],\n",
              " ['the',\n",
              "  'three',\n",
              "  'of',\n",
              "  'them',\n",
              "  'watched',\n",
              "  'the',\n",
              "  'sky',\n",
              "  'together',\n",
              "  'with',\n",
              "  'foreboding'],\n",
              " ['the', 'maester', 'did', 'not', 'believe', 'in', 'omens'],\n",
              " ['and', 'yet'],\n",
              " []]"
            ]
          },
          "metadata": {},
          "execution_count": 17
        }
      ]
    },
    {
      "cell_type": "code",
      "source": [
        "model=gensim.models.Word2Vec(\n",
        "    window=10,\n",
        "    min_count=2,\n",
        "    workers=4,\n",
        "    vector_size=100\n",
        ")"
      ],
      "metadata": {
        "id": "g6pNUyX3lSCN"
      },
      "execution_count": 19,
      "outputs": []
    },
    {
      "cell_type": "code",
      "source": [
        "model.build_vocab(story)"
      ],
      "metadata": {
        "id": "iXtq9ZMDl_lF"
      },
      "execution_count": 20,
      "outputs": []
    },
    {
      "cell_type": "code",
      "source": [
        "model.train(story,total_examples=model.corpus_count,epochs=model.epochs)"
      ],
      "metadata": {
        "colab": {
          "base_uri": "https://localhost:8080/"
        },
        "id": "iQtboWmKmI_-",
        "outputId": "cd1bb66a-c5e0-47b8-e685-fdf897eafb4b"
      },
      "execution_count": 23,
      "outputs": [
        {
          "output_type": "execute_result",
          "data": {
            "text/plain": [
              "(7780318, 10199830)"
            ]
          },
          "metadata": {},
          "execution_count": 23
        }
      ]
    },
    {
      "cell_type": "code",
      "source": [
        "model.wv.most_similar('daenerys')"
      ],
      "metadata": {
        "colab": {
          "base_uri": "https://localhost:8080/"
        },
        "id": "WIMlWN1OmTsG",
        "outputId": "d8804149-46df-41ec-8294-f75e69d751c3"
      },
      "execution_count": 25,
      "outputs": [
        {
          "output_type": "execute_result",
          "data": {
            "text/plain": [
              "[('stormborn', 0.808797299861908),\n",
              " ('targaryen', 0.7963671684265137),\n",
              " ('unburnt', 0.725300669670105),\n",
              " ('dorne', 0.6994339227676392),\n",
              " ('queen', 0.6936737298965454),\n",
              " ('myrcella', 0.6799183487892151),\n",
              " ('elia', 0.6746637225151062),\n",
              " ('princess', 0.6726328134536743),\n",
              " ('martell', 0.6664652228355408),\n",
              " ('blessed', 0.6433727145195007)]"
            ]
          },
          "metadata": {},
          "execution_count": 25
        }
      ]
    },
    {
      "cell_type": "code",
      "source": [
        "model.wv.doesnt_match(['jon','rikon','robb','arya','sansa','bran'])"
      ],
      "metadata": {
        "colab": {
          "base_uri": "https://localhost:8080/",
          "height": 54
        },
        "id": "LJKTkbbDmlQo",
        "outputId": "1435f57d-8f6b-44ab-96bf-36f20896315f"
      },
      "execution_count": 27,
      "outputs": [
        {
          "output_type": "stream",
          "name": "stderr",
          "text": [
            "WARNING:gensim.models.keyedvectors:vectors for words {'rikon'} are not present in the model, ignoring these words\n"
          ]
        },
        {
          "output_type": "execute_result",
          "data": {
            "text/plain": [
              "'jon'"
            ],
            "application/vnd.google.colaboratory.intrinsic+json": {
              "type": "string"
            }
          },
          "metadata": {},
          "execution_count": 27
        }
      ]
    },
    {
      "cell_type": "code",
      "source": [
        "model.wv['king']"
      ],
      "metadata": {
        "colab": {
          "base_uri": "https://localhost:8080/"
        },
        "id": "ZgskZmsMm-Js",
        "outputId": "a3c9654f-0ebe-4374-e413-f8fb3e01d467"
      },
      "execution_count": 28,
      "outputs": [
        {
          "output_type": "execute_result",
          "data": {
            "text/plain": [
              "array([ 2.9207542e+00,  1.8571668e+00,  3.5955346e-01,  2.3405976e+00,\n",
              "       -2.3327520e+00,  1.0341238e+00,  1.2468548e+00, -1.5049655e+00,\n",
              "       -2.4156563e+00, -1.3061492e+00,  5.7266452e-03, -1.4465235e+00,\n",
              "        1.3741157e+00,  1.0356839e+00,  1.6055170e-01,  1.9993889e-01,\n",
              "        3.6079937e-01,  1.9373821e+00,  2.6225957e-01,  1.0543743e+00,\n",
              "        2.3478372e+00, -1.7130735e+00,  2.6858525e+00,  5.7012558e-02,\n",
              "       -1.2675807e+00,  1.0734637e+00, -8.2912099e-01, -6.5948021e-01,\n",
              "       -1.9586033e+00,  3.2412798e+00, -2.3782108e+00,  2.3407557e+00,\n",
              "        1.8494362e-01, -6.2312663e-02,  1.8307728e+00, -2.7711792e+00,\n",
              "       -2.1659801e+00, -1.6090524e+00,  5.6727111e-01,  2.3359701e-01,\n",
              "       -4.5729953e-01,  1.0895026e+00,  4.0758696e+00,  2.0251815e+00,\n",
              "       -1.2106923e+00, -1.3031598e+00,  1.4916002e+00, -1.0816287e+00,\n",
              "        3.0709107e+00, -9.6194822e-01, -4.3590951e+00, -1.5442795e+00,\n",
              "        1.0005289e+00, -2.8893080e+00,  3.3886964e+00, -3.7568617e+00,\n",
              "        2.8232362e+00,  3.7718961e+00, -9.8400138e-02,  4.5405102e+00,\n",
              "        7.9736364e-01,  4.6700791e-01,  1.2297348e+00,  3.1945896e+00,\n",
              "       -1.2164392e+00,  1.4573578e+00, -3.1679487e+00, -4.3286324e-01,\n",
              "       -4.3964615e-01,  8.5094094e-01,  2.4467756e-01, -2.5203090e+00,\n",
              "        2.6856830e+00, -2.4473274e+00,  8.4041214e-01, -7.7190685e-01,\n",
              "       -1.7621003e-02,  4.7502831e-01,  1.5695579e+00, -2.9618022e+00,\n",
              "        1.3275423e+00,  1.0771569e+00, -1.1642311e+00, -1.3114440e+00,\n",
              "       -2.1151285e+00,  8.5787028e-01,  5.8939052e-01,  5.7418051e+00,\n",
              "        3.1820352e+00, -9.4815306e-02, -6.8109510e-03,  7.4291551e-01,\n",
              "       -1.1844763e+00, -2.7290833e+00,  7.9470116e-01, -1.9571413e+00,\n",
              "        1.4417408e-01,  4.4333580e-01,  1.5047292e+00, -3.3035808e+00],\n",
              "      dtype=float32)"
            ]
          },
          "metadata": {},
          "execution_count": 28
        }
      ]
    },
    {
      "cell_type": "code",
      "source": [
        "model.wv['king'].shape"
      ],
      "metadata": {
        "colab": {
          "base_uri": "https://localhost:8080/"
        },
        "id": "WrWidzH_nF13",
        "outputId": "db5b9f8f-041b-4d7c-a183-1b18e24b7e74"
      },
      "execution_count": 29,
      "outputs": [
        {
          "output_type": "execute_result",
          "data": {
            "text/plain": [
              "(100,)"
            ]
          },
          "metadata": {},
          "execution_count": 29
        }
      ]
    },
    {
      "cell_type": "code",
      "source": [
        "model.wv.similarity('arya','sansa')"
      ],
      "metadata": {
        "colab": {
          "base_uri": "https://localhost:8080/"
        },
        "id": "UAlAqo7UnJ8B",
        "outputId": "23958518-84a7-4bf4-b1e1-40ee75c14efc"
      },
      "execution_count": 30,
      "outputs": [
        {
          "output_type": "execute_result",
          "data": {
            "text/plain": [
              "0.80608475"
            ]
          },
          "metadata": {},
          "execution_count": 30
        }
      ]
    },
    {
      "cell_type": "code",
      "source": [
        "model.wv.similarity('cersei','sansa')"
      ],
      "metadata": {
        "colab": {
          "base_uri": "https://localhost:8080/"
        },
        "id": "i--TddO8nUqc",
        "outputId": "160f11c9-38d0-4360-eb77-225d884767cf"
      },
      "execution_count": 31,
      "outputs": [
        {
          "output_type": "execute_result",
          "data": {
            "text/plain": [
              "0.72955835"
            ]
          },
          "metadata": {},
          "execution_count": 31
        }
      ]
    },
    {
      "cell_type": "code",
      "source": [
        "model.wv.similarity('tywin','sansa')"
      ],
      "metadata": {
        "colab": {
          "base_uri": "https://localhost:8080/"
        },
        "id": "ZjBfic1WnYD_",
        "outputId": "b8ba6a08-ce5f-4e2d-d1d2-fbbfe5609e52"
      },
      "execution_count": 32,
      "outputs": [
        {
          "output_type": "execute_result",
          "data": {
            "text/plain": [
              "0.21944539"
            ]
          },
          "metadata": {},
          "execution_count": 32
        }
      ]
    },
    {
      "cell_type": "code",
      "source": [
        "model.wv.get_normed_vectors()"
      ],
      "metadata": {
        "colab": {
          "base_uri": "https://localhost:8080/"
        },
        "id": "DhxLTyFSna2P",
        "outputId": "2755b86a-196c-47d7-a572-16071cfe8698"
      },
      "execution_count": 33,
      "outputs": [
        {
          "output_type": "execute_result",
          "data": {
            "text/plain": [
              "array([[-0.05247006, -0.01043416,  0.10308905, ..., -0.00730846,\n",
              "        -0.09423282,  0.02694651],\n",
              "       [-0.09621334,  0.07133703,  0.07555152, ...,  0.0459105 ,\n",
              "        -0.07227165,  0.04810634],\n",
              "       [ 0.07451425, -0.10524847, -0.01570857, ..., -0.02366609,\n",
              "         0.19183831, -0.15507992],\n",
              "       ...,\n",
              "       [-0.129485  , -0.08141056, -0.13849735, ..., -0.10143756,\n",
              "         0.08147921,  0.05409241],\n",
              "       [-0.12904173,  0.12691733, -0.0254255 , ..., -0.2634407 ,\n",
              "        -0.07652014, -0.0101083 ],\n",
              "       [-0.1478736 ,  0.0987364 ,  0.09373046, ..., -0.22023597,\n",
              "         0.02376457,  0.01547715]], dtype=float32)"
            ]
          },
          "metadata": {},
          "execution_count": 33
        }
      ]
    },
    {
      "cell_type": "code",
      "source": [
        "model.wv.get_normed_vectors().shape"
      ],
      "metadata": {
        "colab": {
          "base_uri": "https://localhost:8080/"
        },
        "id": "pna_ktcKnkpC",
        "outputId": "cdf74da0-b6ce-4745-9b2e-81e86c12e323"
      },
      "execution_count": 34,
      "outputs": [
        {
          "output_type": "execute_result",
          "data": {
            "text/plain": [
              "(18635, 100)"
            ]
          },
          "metadata": {},
          "execution_count": 34
        }
      ]
    },
    {
      "cell_type": "code",
      "source": [
        "y=model.wv.index_to_key"
      ],
      "metadata": {
        "id": "ifmJ7C7dnrwL"
      },
      "execution_count": 35,
      "outputs": []
    },
    {
      "cell_type": "code",
      "source": [
        "y"
      ],
      "metadata": {
        "colab": {
          "base_uri": "https://localhost:8080/"
        },
        "id": "7XX3Kcz0nvp9",
        "outputId": "fe943e0e-d492-4c3a-ced7-6151311936d9"
      },
      "execution_count": 36,
      "outputs": [
        {
          "output_type": "execute_result",
          "data": {
            "text/plain": [
              "['the',\n",
              " 'and',\n",
              " 'to',\n",
              " 'of',\n",
              " 'he',\n",
              " 'his',\n",
              " 'was',\n",
              " 'you',\n",
              " 'her',\n",
              " 'in',\n",
              " 'it',\n",
              " 'had',\n",
              " 'that',\n",
              " 'she',\n",
              " 'as',\n",
              " 'with',\n",
              " 'him',\n",
              " 'not',\n",
              " 'but',\n",
              " 'for',\n",
              " 'they',\n",
              " 'is',\n",
              " 'on',\n",
              " 'at',\n",
              " 'my',\n",
              " 'said',\n",
              " 'have',\n",
              " 'be',\n",
              " 'lord',\n",
              " 'them',\n",
              " 'no',\n",
              " 'from',\n",
              " 'me',\n",
              " 'would',\n",
              " 'were',\n",
              " 'your',\n",
              " 'one',\n",
              " 'when',\n",
              " 'all',\n",
              " 'will',\n",
              " 'ser',\n",
              " 'if',\n",
              " 'so',\n",
              " 'their',\n",
              " 'could',\n",
              " 'we',\n",
              " 'are',\n",
              " 'man',\n",
              " 'there',\n",
              " 'this',\n",
              " 'up',\n",
              " 'what',\n",
              " 'been',\n",
              " 'did',\n",
              " 'by',\n",
              " 'king',\n",
              " 'do',\n",
              " 'men',\n",
              " 'out',\n",
              " 'back',\n",
              " 'more',\n",
              " 'or',\n",
              " 'who',\n",
              " 'well',\n",
              " 'down',\n",
              " 'than',\n",
              " 'only',\n",
              " 'like',\n",
              " 'jon',\n",
              " 'tyrion',\n",
              " 'father',\n",
              " 'some',\n",
              " 'hand',\n",
              " 'old',\n",
              " 'even',\n",
              " 'never',\n",
              " 'see',\n",
              " 'off',\n",
              " 'before',\n",
              " 'too',\n",
              " 'an',\n",
              " 'into',\n",
              " 'know',\n",
              " 'now',\n",
              " 'made',\n",
              " 'black',\n",
              " 'told',\n",
              " 'eyes',\n",
              " 'thought',\n",
              " 'lady',\n",
              " 'time',\n",
              " 'how',\n",
              " 'long',\n",
              " 'then',\n",
              " 'come',\n",
              " 'has',\n",
              " 'can',\n",
              " 'where',\n",
              " 'page',\n",
              " 'us',\n",
              " 'll',\n",
              " 'through',\n",
              " 'might',\n",
              " 'here',\n",
              " 'face',\n",
              " 'still',\n",
              " 'way',\n",
              " 'red',\n",
              " 'head',\n",
              " 'boy',\n",
              " 'must',\n",
              " 'brother',\n",
              " 'once',\n",
              " 'over',\n",
              " 'good',\n",
              " 'two',\n",
              " 'night',\n",
              " 'queen',\n",
              " 'other',\n",
              " 'little',\n",
              " 'about',\n",
              " 'came',\n",
              " 'took',\n",
              " 'say',\n",
              " 'though',\n",
              " 'again',\n",
              " 'away',\n",
              " 'arya',\n",
              " 'should',\n",
              " 'dead',\n",
              " 'three',\n",
              " 'own',\n",
              " 'take',\n",
              " 'go',\n",
              " 'son',\n",
              " 'am',\n",
              " 'make',\n",
              " 'blood',\n",
              " 'half',\n",
              " 'saw',\n",
              " 'bran',\n",
              " 'day',\n",
              " 'himself',\n",
              " 'white',\n",
              " 'great',\n",
              " 'first',\n",
              " 'look',\n",
              " 'after',\n",
              " 'want',\n",
              " 'our',\n",
              " 'enough',\n",
              " 'maester',\n",
              " 'much',\n",
              " 'tell',\n",
              " 'sword',\n",
              " 'girl',\n",
              " 'yet',\n",
              " 'knew',\n",
              " 'left',\n",
              " 'its',\n",
              " 'sansa',\n",
              " 'looked',\n",
              " 'gave',\n",
              " 'jaime',\n",
              " 'called',\n",
              " 'every',\n",
              " 'heard',\n",
              " 'asked',\n",
              " 'went',\n",
              " 'why',\n",
              " 'let',\n",
              " 'wall',\n",
              " 'turned',\n",
              " 'need',\n",
              " 'behind',\n",
              " 'around',\n",
              " 'stannis',\n",
              " 'dany',\n",
              " 'across',\n",
              " 'keep',\n",
              " 'woman',\n",
              " 'gods',\n",
              " 'another',\n",
              " 'stark',\n",
              " 'knight',\n",
              " 'just',\n",
              " 'any',\n",
              " 'castle',\n",
              " 'beneath',\n",
              " 'gold',\n",
              " 'cersei',\n",
              " 'those',\n",
              " 'found',\n",
              " 'think',\n",
              " 'last',\n",
              " 'grace',\n",
              " 'catelyn',\n",
              " 'against',\n",
              " 'many',\n",
              " 'feet',\n",
              " 'hair',\n",
              " 'hands',\n",
              " 'snow',\n",
              " 'mother',\n",
              " 'seemed',\n",
              " 'robb',\n",
              " 'ever',\n",
              " 'don',\n",
              " 'robert',\n",
              " 'lannister',\n",
              " 'may',\n",
              " 're',\n",
              " 'done',\n",
              " 'hear',\n",
              " 'water',\n",
              " 'horse',\n",
              " 'find',\n",
              " 'fire',\n",
              " 'prince',\n",
              " 'hard',\n",
              " 'name',\n",
              " 'wine',\n",
              " 'stone',\n",
              " 'high',\n",
              " 'grey',\n",
              " 'put',\n",
              " 'until',\n",
              " 'iron',\n",
              " 'theon',\n",
              " 'these',\n",
              " 'gone',\n",
              " 'give',\n",
              " 'better',\n",
              " 'between',\n",
              " 'voice',\n",
              " 'winterfell',\n",
              " 'always',\n",
              " 'dark',\n",
              " 'seen',\n",
              " 'end',\n",
              " 'shall',\n",
              " 'upon',\n",
              " 'place',\n",
              " 'years',\n",
              " 'nothing',\n",
              " 'joffrey',\n",
              " 'small',\n",
              " 'walls',\n",
              " 'sister',\n",
              " 'most',\n",
              " 'hundred',\n",
              " 'sea',\n",
              " 'stood',\n",
              " 'while',\n",
              " 'cold',\n",
              " 'right',\n",
              " 'sam',\n",
              " 'under',\n",
              " 'fingers',\n",
              " 'green',\n",
              " 'ned',\n",
              " 'same',\n",
              " 'cloak',\n",
              " 'house',\n",
              " 'door',\n",
              " 'words',\n",
              " 'does',\n",
              " 'beside',\n",
              " 'get',\n",
              " 'watch',\n",
              " 'mouth',\n",
              " 'few',\n",
              " 'sent',\n",
              " 'city',\n",
              " 'young',\n",
              " 'perhaps',\n",
              " 'true',\n",
              " 'wanted',\n",
              " 'such',\n",
              " 'each',\n",
              " 'others',\n",
              " 'leave',\n",
              " 'wind',\n",
              " 'seven',\n",
              " 'big',\n",
              " 'light',\n",
              " 'sweet',\n",
              " 'almost',\n",
              " 'daughter',\n",
              " 'yes',\n",
              " 'arms',\n",
              " 'side',\n",
              " 'lost',\n",
              " 'felt',\n",
              " 'davos',\n",
              " 'brothers',\n",
              " 'very',\n",
              " 'herself',\n",
              " 'brought',\n",
              " 'children',\n",
              " 'battle',\n",
              " 'best',\n",
              " 'far',\n",
              " 've',\n",
              " 'die',\n",
              " 'soon',\n",
              " 'fear',\n",
              " 'north',\n",
              " 'along',\n",
              " 'child',\n",
              " 'help',\n",
              " 'lords',\n",
              " 'taken',\n",
              " 'died',\n",
              " 'renly',\n",
              " 'both',\n",
              " 'word',\n",
              " 'something',\n",
              " 'brienne',\n",
              " 'won',\n",
              " 'new',\n",
              " 'mean',\n",
              " 'tywin',\n",
              " 'hot',\n",
              " 'hall',\n",
              " 'steel',\n",
              " 'rest',\n",
              " 'past',\n",
              " 'strong',\n",
              " 'kill',\n",
              " 'sound',\n",
              " 'tower',\n",
              " 'wife',\n",
              " 'killed',\n",
              " 'thing',\n",
              " 'tried',\n",
              " 'bear',\n",
              " 'heart',\n",
              " 'life',\n",
              " 'wolf',\n",
              " 'moment',\n",
              " 'horses',\n",
              " 'nor',\n",
              " 'bed',\n",
              " 'love',\n",
              " 'sat',\n",
              " 'sons',\n",
              " 'arm',\n",
              " 'began',\n",
              " 'close',\n",
              " 'pale',\n",
              " 'free',\n",
              " 'days',\n",
              " 'bring',\n",
              " 'knights',\n",
              " 'bloody',\n",
              " 'open',\n",
              " 'part',\n",
              " 'dragon',\n",
              " 'landing',\n",
              " 'death',\n",
              " 'inside',\n",
              " 'cut',\n",
              " 'smile',\n",
              " 'bastard',\n",
              " 'silver',\n",
              " 'uncle',\n",
              " 'thousand',\n",
              " 'four',\n",
              " 'dragons',\n",
              " 'fool',\n",
              " 'above',\n",
              " 'laughed',\n",
              " 'blue',\n",
              " 'river',\n",
              " 'war',\n",
              " 'air',\n",
              " 'without',\n",
              " 'rose',\n",
              " 'going',\n",
              " 'brown',\n",
              " 'got',\n",
              " 'sleep',\n",
              " 'certain',\n",
              " 'fell',\n",
              " 'rode',\n",
              " 'golden',\n",
              " 'captain',\n",
              " 'speak',\n",
              " 'send',\n",
              " 'please',\n",
              " 'sun',\n",
              " 'swords',\n",
              " 'set',\n",
              " 'fight',\n",
              " 'hodor',\n",
              " 'feel',\n",
              " 'beyond',\n",
              " 'call',\n",
              " 'throat',\n",
              " 'full',\n",
              " 'mormont',\n",
              " 'rock',\n",
              " 'table',\n",
              " 'thick',\n",
              " 'trees',\n",
              " 'world',\n",
              " 'storm',\n",
              " 'tall',\n",
              " 'honor',\n",
              " 'broken',\n",
              " 'tongue',\n",
              " 'pulled',\n",
              " 'deep',\n",
              " 'women',\n",
              " 'next',\n",
              " 'legs',\n",
              " 'things',\n",
              " 'toward',\n",
              " 'oh',\n",
              " 'steps',\n",
              " 'together',\n",
              " 'raised',\n",
              " 'smiled',\n",
              " 'burned',\n",
              " 'heavy',\n",
              " 'given',\n",
              " 'reached',\n",
              " 'moved',\n",
              " 'ride',\n",
              " 'since',\n",
              " 'remember',\n",
              " 'remembered',\n",
              " 'alone',\n",
              " 'command',\n",
              " 'hold',\n",
              " 'skin',\n",
              " 'wood',\n",
              " 'ask',\n",
              " 'soft',\n",
              " 'frey',\n",
              " 'morning',\n",
              " 'hope',\n",
              " 'else',\n",
              " 'walder',\n",
              " 'someone',\n",
              " 'teeth',\n",
              " 'varys',\n",
              " 'meant',\n",
              " 'ran',\n",
              " 'coming',\n",
              " 'ground',\n",
              " 'eye',\n",
              " 'truth',\n",
              " 'gate',\n",
              " 'cup',\n",
              " 'ten',\n",
              " 'which',\n",
              " 'throne',\n",
              " 'second',\n",
              " 'dwarf',\n",
              " 'outside',\n",
              " 'held',\n",
              " 'room',\n",
              " 'wore',\n",
              " 'cannot',\n",
              " 'known',\n",
              " 'summer',\n",
              " 'talk',\n",
              " 'near',\n",
              " 'matter',\n",
              " 'people',\n",
              " 'south',\n",
              " 'home',\n",
              " 'jorah',\n",
              " 'fat',\n",
              " 'closed',\n",
              " 'commander',\n",
              " 'doubt',\n",
              " 'riverrun',\n",
              " 'ships',\n",
              " 'neck',\n",
              " 'shadow',\n",
              " 'sky',\n",
              " 'turn',\n",
              " 'food',\n",
              " 'believe',\n",
              " 'watched',\n",
              " 'moon',\n",
              " 'dozen',\n",
              " 'guards',\n",
              " 'lips',\n",
              " 'below',\n",
              " 'none',\n",
              " 'wed',\n",
              " 'times',\n",
              " 'bolton',\n",
              " 'leather',\n",
              " 'instead',\n",
              " 'safe',\n",
              " 'smell',\n",
              " 'shoulder',\n",
              " 'answer',\n",
              " 'caught',\n",
              " 'squire',\n",
              " 'cloaks',\n",
              " 'armor',\n",
              " 'mine',\n",
              " 'opened',\n",
              " 'septon',\n",
              " 'god',\n",
              " 'tyrell',\n",
              " 'wondered',\n",
              " 'foot',\n",
              " 'return',\n",
              " 'blade',\n",
              " 'baratheon',\n",
              " 'empty',\n",
              " 'least',\n",
              " 'less',\n",
              " 'shield',\n",
              " 'ghost',\n",
              " 'kept',\n",
              " 'followed',\n",
              " 'warm',\n",
              " 'used',\n",
              " 'boys',\n",
              " 'run',\n",
              " 'eddard',\n",
              " 'being',\n",
              " 'wish',\n",
              " 'crown',\n",
              " 'commanded',\n",
              " 'hound',\n",
              " 'strength',\n",
              " 'floor',\n",
              " 'serve',\n",
              " 'ice',\n",
              " 'sight',\n",
              " 'six',\n",
              " 'says',\n",
              " 'ship',\n",
              " 'yours',\n",
              " 'flames',\n",
              " 'bones',\n",
              " 'eat',\n",
              " 'filled',\n",
              " 'sometimes',\n",
              " 'returned',\n",
              " 'beard',\n",
              " 'led',\n",
              " 'yard',\n",
              " 'tommen',\n",
              " 'gates',\n",
              " 'seem',\n",
              " 'covered',\n",
              " 'flesh',\n",
              " 'five',\n",
              " 'nose',\n",
              " 'friend',\n",
              " 'wrong',\n",
              " 'fighting',\n",
              " 'thin',\n",
              " 'aside',\n",
              " 'chest',\n",
              " 'yellow',\n",
              " 'shouted',\n",
              " 'breath',\n",
              " 'common',\n",
              " 'show',\n",
              " 'littlefinger',\n",
              " 'work',\n",
              " 'within',\n",
              " 'friends',\n",
              " 'realm',\n",
              " 'waiting',\n",
              " 'harrenhal',\n",
              " 'guard',\n",
              " 'afraid',\n",
              " 'barristan',\n",
              " 'bad',\n",
              " 'tree',\n",
              " 'use',\n",
              " 'spoke',\n",
              " 'liked',\n",
              " 'belly',\n",
              " 'greyjoy',\n",
              " 'wolves',\n",
              " 'pie',\n",
              " 'looking',\n",
              " 'balon',\n",
              " 'passed',\n",
              " 'asha',\n",
              " 'hurt',\n",
              " 'loved',\n",
              " 'wooden',\n",
              " 'lay',\n",
              " 'fall',\n",
              " 'grew',\n",
              " 'aye',\n",
              " 'master',\n",
              " 'petyr',\n",
              " 'wet',\n",
              " 'aemon',\n",
              " 'huge',\n",
              " 'promised',\n",
              " 'burning',\n",
              " 'shoulders',\n",
              " 'crow',\n",
              " 'different',\n",
              " 'later',\n",
              " 'wedding',\n",
              " 'spear',\n",
              " 'taste',\n",
              " 'named',\n",
              " 'lysa',\n",
              " 'daenerys',\n",
              " 'ears',\n",
              " 'late',\n",
              " 'lannisters',\n",
              " 'pushed',\n",
              " 'onto',\n",
              " 'suddenly',\n",
              " 'rain',\n",
              " 'maid',\n",
              " 'year',\n",
              " 'song',\n",
              " 'sure',\n",
              " 'drew',\n",
              " 'rodrik',\n",
              " 'axe',\n",
              " 'walked',\n",
              " 'remained',\n",
              " 'dream',\n",
              " 'dog',\n",
              " 'wildlings',\n",
              " 'finally',\n",
              " 'helm',\n",
              " 'stay',\n",
              " 'brave',\n",
              " 'edmure',\n",
              " 'heir',\n",
              " 'girls',\n",
              " 'direwolf',\n",
              " 'stop',\n",
              " 'truly',\n",
              " 'raven',\n",
              " 'poor',\n",
              " 'realized',\n",
              " 'whispered',\n",
              " 'bronn',\n",
              " 'luwin',\n",
              " 'reach',\n",
              " 'care',\n",
              " 'either',\n",
              " 'broke',\n",
              " 'seat',\n",
              " 'faces',\n",
              " 'west',\n",
              " 'husband',\n",
              " 'arryn',\n",
              " 'darkness',\n",
              " 'dothraki',\n",
              " 'stand',\n",
              " 'kingdoms',\n",
              " 'pointed',\n",
              " 'forward',\n",
              " 'kingsguard',\n",
              " 'smoke',\n",
              " 'mance',\n",
              " 'lifted',\n",
              " 'round',\n",
              " 'clegane',\n",
              " 'drink',\n",
              " 'lie',\n",
              " 'longer',\n",
              " 'try',\n",
              " 'sworn',\n",
              " 'maybe',\n",
              " 'dagger',\n",
              " 'pain',\n",
              " 'drogo',\n",
              " 'princess',\n",
              " 'margaery',\n",
              " 'grown',\n",
              " 'quick',\n",
              " 'kings',\n",
              " 'pycelle',\n",
              " 'born',\n",
              " 'didn',\n",
              " 'gendry',\n",
              " 'hill',\n",
              " 'sharp',\n",
              " 'bright',\n",
              " 'lands',\n",
              " 'tears',\n",
              " 'heads',\n",
              " 'meat',\n",
              " 'feast',\n",
              " 'sit',\n",
              " 'mind',\n",
              " 'stopped',\n",
              " 'understand',\n",
              " 'reminded',\n",
              " 'melisandre',\n",
              " 'worse',\n",
              " 'wants',\n",
              " 'meereen',\n",
              " 'bit',\n",
              " 'bread',\n",
              " 'pray',\n",
              " 'short',\n",
              " 'horn',\n",
              " 'whose',\n",
              " 'aegon',\n",
              " 'save',\n",
              " 'pretty',\n",
              " 'camp',\n",
              " 'window',\n",
              " 'road',\n",
              " 'mountain',\n",
              " 'twenty',\n",
              " 'salt',\n",
              " 'live',\n",
              " 'low',\n",
              " 'silk',\n",
              " 'point',\n",
              " 'often',\n",
              " 'towers',\n",
              " 'khal',\n",
              " 'ones',\n",
              " 'making',\n",
              " 'sooner',\n",
              " 'older',\n",
              " 'slain',\n",
              " 'leg',\n",
              " 'knows',\n",
              " 'step',\n",
              " 'third',\n",
              " 'glanced',\n",
              " 'wait',\n",
              " 'myself',\n",
              " 'shook',\n",
              " 'peace',\n",
              " 'ago',\n",
              " 'riding',\n",
              " 'served',\n",
              " 'east',\n",
              " 'quiet',\n",
              " 'narrow',\n",
              " 'mud',\n",
              " 'fish',\n",
              " 'fallen',\n",
              " 'drowned',\n",
              " 'coin',\n",
              " 'younger',\n",
              " 'forgotten',\n",
              " 'dogs',\n",
              " 'meera',\n",
              " 'lion',\n",
              " 'stepped',\n",
              " 'hung',\n",
              " 'walk',\n",
              " 'ahead',\n",
              " 'sort',\n",
              " 'silent',\n",
              " 'blind',\n",
              " 'running',\n",
              " 'amongst',\n",
              " 'knees',\n",
              " 'host',\n",
              " 'laugh',\n",
              " 'whole',\n",
              " 'reek',\n",
              " 'ought',\n",
              " 'knife',\n",
              " 'swear',\n",
              " 'stupid',\n",
              " 'anything',\n",
              " 'mad',\n",
              " 'touched',\n",
              " 'silence',\n",
              " 'large',\n",
              " 'naked',\n",
              " 'dawn',\n",
              " 'cousin',\n",
              " 'twisted',\n",
              " 'pass',\n",
              " 'sept',\n",
              " 'threw',\n",
              " 'stones',\n",
              " 'beautiful',\n",
              " 'body',\n",
              " 'themselves',\n",
              " 'during',\n",
              " 'cheeks',\n",
              " 'read',\n",
              " 'choice',\n",
              " 'loras',\n",
              " 'leaves',\n",
              " 'westeros',\n",
              " 'bird',\n",
              " 'fought',\n",
              " 'yoren',\n",
              " 'climbed',\n",
              " 'answered',\n",
              " 'replied',\n",
              " 'saddle',\n",
              " 'whilst',\n",
              " 'knee',\n",
              " 'offered',\n",
              " 'trying',\n",
              " 'chain',\n",
              " 'wonder',\n",
              " 'targaryen',\n",
              " 'victarion',\n",
              " 'council',\n",
              " 'casterly',\n",
              " 'carried',\n",
              " 'wide',\n",
              " 'cat',\n",
              " 'banners',\n",
              " 'doors',\n",
              " 'stars',\n",
              " 'tully',\n",
              " 'shadows',\n",
              " 'service',\n",
              " 'gift',\n",
              " 'age',\n",
              " 'top',\n",
              " 'kind',\n",
              " 'whatever',\n",
              " 'court',\n",
              " 'septa',\n",
              " 'closer',\n",
              " 'agreed',\n",
              " 'wasn',\n",
              " 'trust',\n",
              " 'angry',\n",
              " 'needed',\n",
              " 'needs',\n",
              " 'crows',\n",
              " 'pleased',\n",
              " 'eunuch',\n",
              " 'gregor',\n",
              " 'yourself',\n",
              " 'rhaegar',\n",
              " 'letter',\n",
              " 'comes',\n",
              " 'slaves',\n",
              " 'line',\n",
              " 'hour',\n",
              " 'power',\n",
              " 'thank',\n",
              " 'singer',\n",
              " 'company',\n",
              " 'eight',\n",
              " 'kiss',\n",
              " 'pay',\n",
              " 'rickon',\n",
              " 'craster',\n",
              " 'dreams',\n",
              " 'ear',\n",
              " 'dorne',\n",
              " 'names',\n",
              " 'clothes',\n",
              " 'fast',\n",
              " 'fist',\n",
              " 'hizdahr',\n",
              " 'mail',\n",
              " 'neither',\n",
              " 'trident',\n",
              " 'crossed',\n",
              " 'imp',\n",
              " 'join',\n",
              " 'serving',\n",
              " 'finger',\n",
              " 'dry',\n",
              " 'fine',\n",
              " 'dying',\n",
              " 'somehow',\n",
              " 'saying',\n",
              " 'field',\n",
              " 'dragonstone',\n",
              " 'kevan',\n",
              " 'milk',\n",
              " 'doing',\n",
              " 'fires',\n",
              " 'learn',\n",
              " 'land',\n",
              " 'helped',\n",
              " 'screamed',\n",
              " 'declared',\n",
              " 'insisted',\n",
              " 'easy',\n",
              " 'watching',\n",
              " 'wildling',\n",
              " 'win',\n",
              " 'alive',\n",
              " 'pyke',\n",
              " 'spears',\n",
              " 'drunk',\n",
              " 'nodded',\n",
              " 'slid',\n",
              " 'ramsay',\n",
              " 'fair',\n",
              " 'sail',\n",
              " 'boots',\n",
              " 'front',\n",
              " 'tent',\n",
              " 'slow',\n",
              " 'winter',\n",
              " 'woods',\n",
              " 'torch',\n",
              " 'kissed',\n",
              " 'wings',\n",
              " 'myrcella',\n",
              " 'chair',\n",
              " 'frightened',\n",
              " 'question',\n",
              " 'atop',\n",
              " 'daughters',\n",
              " 'pink',\n",
              " 'harm',\n",
              " 'because',\n",
              " 'learned',\n",
              " 'folk',\n",
              " 'tarly',\n",
              " 'among',\n",
              " 'sisters',\n",
              " 'slowly',\n",
              " 'cried',\n",
              " 'shae',\n",
              " 'rise',\n",
              " 'whore',\n",
              " 'falling',\n",
              " 'jojen',\n",
              " 'makes',\n",
              " 'warned',\n",
              " 'laughter',\n",
              " 'forth',\n",
              " 'earth',\n",
              " 'anyone',\n",
              " 'promise',\n",
              " 'standing',\n",
              " 'move',\n",
              " 'clean',\n",
              " 'play',\n",
              " 'happened',\n",
              " 'priest',\n",
              " 'shouting',\n",
              " 'laid',\n",
              " 'break',\n",
              " 'nine',\n",
              " 'means',\n",
              " 'sense',\n",
              " 'flowers',\n",
              " 'started',\n",
              " 'lived',\n",
              " 'aerys',\n",
              " 'met',\n",
              " 'bare',\n",
              " 'slipped',\n",
              " 'twice',\n",
              " 'quite',\n",
              " 'giant',\n",
              " 'mounted',\n",
              " 'claim',\n",
              " 'sad',\n",
              " 'chains',\n",
              " 'loose',\n",
              " 'harbor',\n",
              " 'pair',\n",
              " 'bay',\n",
              " 'cell',\n",
              " 'faced',\n",
              " 'knelt',\n",
              " 'wouldn',\n",
              " 'grass',\n",
              " 'already',\n",
              " 'ravens',\n",
              " 'yunkai',\n",
              " 'bronze',\n",
              " 'bone',\n",
              " 'game',\n",
              " 'highgarden',\n",
              " 'surely',\n",
              " 'gilly',\n",
              " 'taking',\n",
              " 'army',\n",
              " 'woke',\n",
              " 'count',\n",
              " 'dance',\n",
              " 'waited',\n",
              " 'today',\n",
              " 'rising',\n",
              " 'unless',\n",
              " 'softly',\n",
              " 'morrow',\n",
              " 'cheek',\n",
              " ...]"
            ]
          },
          "metadata": {},
          "execution_count": 36
        }
      ]
    },
    {
      "cell_type": "code",
      "source": [
        "from sklearn.decomposition import PCA"
      ],
      "metadata": {
        "id": "rRqQ0_g6nwNd"
      },
      "execution_count": 37,
      "outputs": []
    },
    {
      "cell_type": "code",
      "source": [
        "pca=PCA(n_components=3)"
      ],
      "metadata": {
        "id": "m26-yE5tn5YE"
      },
      "execution_count": 38,
      "outputs": []
    },
    {
      "cell_type": "code",
      "source": [
        "X=pca.fit_transform(model.wv.get_normed_vectors())"
      ],
      "metadata": {
        "id": "jYvbUGnhn9J9"
      },
      "execution_count": 40,
      "outputs": []
    },
    {
      "cell_type": "code",
      "source": [
        "X[:5]"
      ],
      "metadata": {
        "colab": {
          "base_uri": "https://localhost:8080/"
        },
        "id": "Nl_tZsPHn-hs",
        "outputId": "0361cc52-326a-4305-8d4d-aa5ed0b0cb6b"
      },
      "execution_count": 41,
      "outputs": [
        {
          "output_type": "execute_result",
          "data": {
            "text/plain": [
              "array([[-0.11701339,  0.5603192 , -0.06119316],\n",
              "       [-0.15382785,  0.33877635,  0.04330125],\n",
              "       [ 0.2976179 ,  0.5348628 ,  0.16768959],\n",
              "       [ 0.03409097,  0.330864  , -0.12566273],\n",
              "       [ 0.12735566,  0.5141895 ,  0.22072   ]], dtype=float32)"
            ]
          },
          "metadata": {},
          "execution_count": 41
        }
      ]
    },
    {
      "cell_type": "code",
      "source": [
        "import plotly.express as px"
      ],
      "metadata": {
        "id": "RGLvmJG1oJ9m"
      },
      "execution_count": 42,
      "outputs": []
    },
    {
      "cell_type": "code",
      "source": [
        "fig=px.scatter_3d(X[200:300],x=0,y=1,z=2,color=y[200:300])\n",
        "fig.show()"
      ],
      "metadata": {
        "colab": {
          "base_uri": "https://localhost:8080/",
          "height": 542
        },
        "id": "Vy3nFIiJoO8V",
        "outputId": "f8869f8e-fa1f-40d3-c29a-01526102357d"
      },
      "execution_count": 44,
      "outputs": [
        {
          "output_type": "display_data",
          "data": {
            "text/html": [
              "<html>\n",
              "<head><meta charset=\"utf-8\" /></head>\n",
              "<body>\n",
              "    <div>            <script src=\"https://cdnjs.cloudflare.com/ajax/libs/mathjax/2.7.5/MathJax.js?config=TeX-AMS-MML_SVG\"></script><script type=\"text/javascript\">if (window.MathJax && window.MathJax.Hub && window.MathJax.Hub.Config) {window.MathJax.Hub.Config({SVG: {font: \"STIX-Web\"}});}</script>                <script type=\"text/javascript\">window.PlotlyConfig = {MathJaxConfig: 'local'};</script>\n",
              "        <script charset=\"utf-8\" src=\"https://cdn.plot.ly/plotly-2.24.1.min.js\"></script>                <div id=\"eb5cd065-1078-4b50-844b-f5584392d769\" class=\"plotly-graph-div\" style=\"height:525px; width:100%;\"></div>            <script type=\"text/javascript\">                                    window.PLOTLYENV=window.PLOTLYENV || {};                                    if (document.getElementById(\"eb5cd065-1078-4b50-844b-f5584392d769\")) {                    Plotly.newPlot(                        \"eb5cd065-1078-4b50-844b-f5584392d769\",                        [{\"hovertemplate\":\"color=hair\\u003cbr\\u003e0=%{x}\\u003cbr\\u003e1=%{y}\\u003cbr\\u003e2=%{z}\\u003cextra\\u003e\\u003c\\u002fextra\\u003e\",\"legendgroup\":\"hair\",\"marker\":{\"color\":\"#636efa\",\"symbol\":\"circle\"},\"mode\":\"markers\",\"name\":\"hair\",\"scene\":\"scene\",\"showlegend\":true,\"x\":[-0.28074750304222107],\"y\":[0.2891017198562622],\"z\":[0.33906057476997375],\"type\":\"scatter3d\"},{\"hovertemplate\":\"color=hands\\u003cbr\\u003e0=%{x}\\u003cbr\\u003e1=%{y}\\u003cbr\\u003e2=%{z}\\u003cextra\\u003e\\u003c\\u002fextra\\u003e\",\"legendgroup\":\"hands\",\"marker\":{\"color\":\"#EF553B\",\"symbol\":\"circle\"},\"mode\":\"markers\",\"name\":\"hands\",\"scene\":\"scene\",\"showlegend\":true,\"x\":[-0.2414880394935608],\"y\":[0.47694140672683716],\"z\":[0.38948461413383484],\"type\":\"scatter3d\"},{\"hovertemplate\":\"color=snow\\u003cbr\\u003e0=%{x}\\u003cbr\\u003e1=%{y}\\u003cbr\\u003e2=%{z}\\u003cextra\\u003e\\u003c\\u002fextra\\u003e\",\"legendgroup\":\"snow\",\"marker\":{\"color\":\"#00cc96\",\"symbol\":\"circle\"},\"mode\":\"markers\",\"name\":\"snow\",\"scene\":\"scene\",\"showlegend\":true,\"x\":[-0.17097362875938416],\"y\":[0.47396665811538696],\"z\":[0.18301008641719818],\"type\":\"scatter3d\"},{\"hovertemplate\":\"color=mother\\u003cbr\\u003e0=%{x}\\u003cbr\\u003e1=%{y}\\u003cbr\\u003e2=%{z}\\u003cextra\\u003e\\u003c\\u002fextra\\u003e\",\"legendgroup\":\"mother\",\"marker\":{\"color\":\"#ab63fa\",\"symbol\":\"circle\"},\"mode\":\"markers\",\"name\":\"mother\",\"scene\":\"scene\",\"showlegend\":true,\"x\":[0.42415061593055725],\"y\":[0.5172098278999329],\"z\":[0.08047911524772644],\"type\":\"scatter3d\"},{\"hovertemplate\":\"color=seemed\\u003cbr\\u003e0=%{x}\\u003cbr\\u003e1=%{y}\\u003cbr\\u003e2=%{z}\\u003cextra\\u003e\\u003c\\u002fextra\\u003e\",\"legendgroup\":\"seemed\",\"marker\":{\"color\":\"#FFA15A\",\"symbol\":\"circle\"},\"mode\":\"markers\",\"name\":\"seemed\",\"scene\":\"scene\",\"showlegend\":true,\"x\":[0.022362519055604935],\"y\":[0.41398781538009644],\"z\":[0.2800373435020447],\"type\":\"scatter3d\"},{\"hovertemplate\":\"color=robb\\u003cbr\\u003e0=%{x}\\u003cbr\\u003e1=%{y}\\u003cbr\\u003e2=%{z}\\u003cextra\\u003e\\u003c\\u002fextra\\u003e\",\"legendgroup\":\"robb\",\"marker\":{\"color\":\"#19d3f3\",\"symbol\":\"circle\"},\"mode\":\"markers\",\"name\":\"robb\",\"scene\":\"scene\",\"showlegend\":true,\"x\":[0.41864076256752014],\"y\":[0.5094304084777832],\"z\":[0.11856807768344879],\"type\":\"scatter3d\"},{\"hovertemplate\":\"color=ever\\u003cbr\\u003e0=%{x}\\u003cbr\\u003e1=%{y}\\u003cbr\\u003e2=%{z}\\u003cextra\\u003e\\u003c\\u002fextra\\u003e\",\"legendgroup\":\"ever\",\"marker\":{\"color\":\"#FF6692\",\"symbol\":\"circle\"},\"mode\":\"markers\",\"name\":\"ever\",\"scene\":\"scene\",\"showlegend\":true,\"x\":[0.41705992817878723],\"y\":[0.49729838967323303],\"z\":[0.06569886952638626],\"type\":\"scatter3d\"},{\"hovertemplate\":\"color=don\\u003cbr\\u003e0=%{x}\\u003cbr\\u003e1=%{y}\\u003cbr\\u003e2=%{z}\\u003cextra\\u003e\\u003c\\u002fextra\\u003e\",\"legendgroup\":\"don\",\"marker\":{\"color\":\"#B6E880\",\"symbol\":\"circle\"},\"mode\":\"markers\",\"name\":\"don\",\"scene\":\"scene\",\"showlegend\":true,\"x\":[0.43909206986427307],\"y\":[0.3387693464756012],\"z\":[0.3214905858039856],\"type\":\"scatter3d\"},{\"hovertemplate\":\"color=robert\\u003cbr\\u003e0=%{x}\\u003cbr\\u003e1=%{y}\\u003cbr\\u003e2=%{z}\\u003cextra\\u003e\\u003c\\u002fextra\\u003e\",\"legendgroup\":\"robert\",\"marker\":{\"color\":\"#FF97FF\",\"symbol\":\"circle\"},\"mode\":\"markers\",\"name\":\"robert\",\"scene\":\"scene\",\"showlegend\":true,\"x\":[0.5278826951980591],\"y\":[0.4676540493965149],\"z\":[0.04787381365895271],\"type\":\"scatter3d\"},{\"hovertemplate\":\"color=lannister\\u003cbr\\u003e0=%{x}\\u003cbr\\u003e1=%{y}\\u003cbr\\u003e2=%{z}\\u003cextra\\u003e\\u003c\\u002fextra\\u003e\",\"legendgroup\":\"lannister\",\"marker\":{\"color\":\"#FECB52\",\"symbol\":\"circle\"},\"mode\":\"markers\",\"name\":\"lannister\",\"scene\":\"scene\",\"showlegend\":true,\"x\":[0.38483577966690063],\"y\":[0.4357088506221771],\"z\":[0.039346843957901],\"type\":\"scatter3d\"},{\"hovertemplate\":\"color=may\\u003cbr\\u003e0=%{x}\\u003cbr\\u003e1=%{y}\\u003cbr\\u003e2=%{z}\\u003cextra\\u003e\\u003c\\u002fextra\\u003e\",\"legendgroup\":\"may\",\"marker\":{\"color\":\"#636efa\",\"symbol\":\"circle\"},\"mode\":\"markers\",\"name\":\"may\",\"scene\":\"scene\",\"showlegend\":true,\"x\":[0.5636723637580872],\"y\":[0.44852638244628906],\"z\":[0.12230993062257767],\"type\":\"scatter3d\"},{\"hovertemplate\":\"color=re\\u003cbr\\u003e0=%{x}\\u003cbr\\u003e1=%{y}\\u003cbr\\u003e2=%{z}\\u003cextra\\u003e\\u003c\\u002fextra\\u003e\",\"legendgroup\":\"re\",\"marker\":{\"color\":\"#EF553B\",\"symbol\":\"circle\"},\"mode\":\"markers\",\"name\":\"re\",\"scene\":\"scene\",\"showlegend\":true,\"x\":[0.34159576892852783],\"y\":[0.4234990179538727],\"z\":[0.2691853642463684],\"type\":\"scatter3d\"},{\"hovertemplate\":\"color=done\\u003cbr\\u003e0=%{x}\\u003cbr\\u003e1=%{y}\\u003cbr\\u003e2=%{z}\\u003cextra\\u003e\\u003c\\u002fextra\\u003e\",\"legendgroup\":\"done\",\"marker\":{\"color\":\"#00cc96\",\"symbol\":\"circle\"},\"mode\":\"markers\",\"name\":\"done\",\"scene\":\"scene\",\"showlegend\":true,\"x\":[0.44776463508605957],\"y\":[0.573746919631958],\"z\":[0.23366586863994598],\"type\":\"scatter3d\"},{\"hovertemplate\":\"color=hear\\u003cbr\\u003e0=%{x}\\u003cbr\\u003e1=%{y}\\u003cbr\\u003e2=%{z}\\u003cextra\\u003e\\u003c\\u002fextra\\u003e\",\"legendgroup\":\"hear\",\"marker\":{\"color\":\"#ab63fa\",\"symbol\":\"circle\"},\"mode\":\"markers\",\"name\":\"hear\",\"scene\":\"scene\",\"showlegend\":true,\"x\":[0.17642205953598022],\"y\":[0.5170193910598755],\"z\":[0.3852582573890686],\"type\":\"scatter3d\"},{\"hovertemplate\":\"color=water\\u003cbr\\u003e0=%{x}\\u003cbr\\u003e1=%{y}\\u003cbr\\u003e2=%{z}\\u003cextra\\u003e\\u003c\\u002fextra\\u003e\",\"legendgroup\":\"water\",\"marker\":{\"color\":\"#FFA15A\",\"symbol\":\"circle\"},\"mode\":\"markers\",\"name\":\"water\",\"scene\":\"scene\",\"showlegend\":true,\"x\":[-0.48857244849205017],\"y\":[0.5479392409324646],\"z\":[0.12197427451610565],\"type\":\"scatter3d\"},{\"hovertemplate\":\"color=horse\\u003cbr\\u003e0=%{x}\\u003cbr\\u003e1=%{y}\\u003cbr\\u003e2=%{z}\\u003cextra\\u003e\\u003c\\u002fextra\\u003e\",\"legendgroup\":\"horse\",\"marker\":{\"color\":\"#19d3f3\",\"symbol\":\"circle\"},\"mode\":\"markers\",\"name\":\"horse\",\"scene\":\"scene\",\"showlegend\":true,\"x\":[-0.2945058345794678],\"y\":[0.5348785519599915],\"z\":[0.2653374671936035],\"type\":\"scatter3d\"},{\"hovertemplate\":\"color=find\\u003cbr\\u003e0=%{x}\\u003cbr\\u003e1=%{y}\\u003cbr\\u003e2=%{z}\\u003cextra\\u003e\\u003c\\u002fextra\\u003e\",\"legendgroup\":\"find\",\"marker\":{\"color\":\"#FF6692\",\"symbol\":\"circle\"},\"mode\":\"markers\",\"name\":\"find\",\"scene\":\"scene\",\"showlegend\":true,\"x\":[0.39868900179862976],\"y\":[0.5978541970252991],\"z\":[0.33705198764801025],\"type\":\"scatter3d\"},{\"hovertemplate\":\"color=fire\\u003cbr\\u003e0=%{x}\\u003cbr\\u003e1=%{y}\\u003cbr\\u003e2=%{z}\\u003cextra\\u003e\\u003c\\u002fextra\\u003e\",\"legendgroup\":\"fire\",\"marker\":{\"color\":\"#B6E880\",\"symbol\":\"circle\"},\"mode\":\"markers\",\"name\":\"fire\",\"scene\":\"scene\",\"showlegend\":true,\"x\":[-0.40802985429763794],\"y\":[0.6290519833564758],\"z\":[-0.032725512981414795],\"type\":\"scatter3d\"},{\"hovertemplate\":\"color=prince\\u003cbr\\u003e0=%{x}\\u003cbr\\u003e1=%{y}\\u003cbr\\u003e2=%{z}\\u003cextra\\u003e\\u003c\\u002fextra\\u003e\",\"legendgroup\":\"prince\",\"marker\":{\"color\":\"#FF97FF\",\"symbol\":\"circle\"},\"mode\":\"markers\",\"name\":\"prince\",\"scene\":\"scene\",\"showlegend\":true,\"x\":[0.5293514728546143],\"y\":[0.46042829751968384],\"z\":[0.06826311349868774],\"type\":\"scatter3d\"},{\"hovertemplate\":\"color=hard\\u003cbr\\u003e0=%{x}\\u003cbr\\u003e1=%{y}\\u003cbr\\u003e2=%{z}\\u003cextra\\u003e\\u003c\\u002fextra\\u003e\",\"legendgroup\":\"hard\",\"marker\":{\"color\":\"#FECB52\",\"symbol\":\"circle\"},\"mode\":\"markers\",\"name\":\"hard\",\"scene\":\"scene\",\"showlegend\":true,\"x\":[-0.2936149537563324],\"y\":[0.37707406282424927],\"z\":[0.32665205001831055],\"type\":\"scatter3d\"},{\"hovertemplate\":\"color=name\\u003cbr\\u003e0=%{x}\\u003cbr\\u003e1=%{y}\\u003cbr\\u003e2=%{z}\\u003cextra\\u003e\\u003c\\u002fextra\\u003e\",\"legendgroup\":\"name\",\"marker\":{\"color\":\"#636efa\",\"symbol\":\"circle\"},\"mode\":\"markers\",\"name\":\"name\",\"scene\":\"scene\",\"showlegend\":true,\"x\":[0.5349270701408386],\"y\":[0.5999387502670288],\"z\":[0.14390341937541962],\"type\":\"scatter3d\"},{\"hovertemplate\":\"color=wine\\u003cbr\\u003e0=%{x}\\u003cbr\\u003e1=%{y}\\u003cbr\\u003e2=%{z}\\u003cextra\\u003e\\u003c\\u002fextra\\u003e\",\"legendgroup\":\"wine\",\"marker\":{\"color\":\"#EF553B\",\"symbol\":\"circle\"},\"mode\":\"markers\",\"name\":\"wine\",\"scene\":\"scene\",\"showlegend\":true,\"x\":[-0.03453180193901062],\"y\":[0.32272061705589294],\"z\":[0.2747165560722351],\"type\":\"scatter3d\"},{\"hovertemplate\":\"color=stone\\u003cbr\\u003e0=%{x}\\u003cbr\\u003e1=%{y}\\u003cbr\\u003e2=%{z}\\u003cextra\\u003e\\u003c\\u002fextra\\u003e\",\"legendgroup\":\"stone\",\"marker\":{\"color\":\"#00cc96\",\"symbol\":\"circle\"},\"mode\":\"markers\",\"name\":\"stone\",\"scene\":\"scene\",\"showlegend\":true,\"x\":[-0.5918752551078796],\"y\":[0.5149873495101929],\"z\":[-0.17082905769348145],\"type\":\"scatter3d\"},{\"hovertemplate\":\"color=high\\u003cbr\\u003e0=%{x}\\u003cbr\\u003e1=%{y}\\u003cbr\\u003e2=%{z}\\u003cextra\\u003e\\u003c\\u002fextra\\u003e\",\"legendgroup\":\"high\",\"marker\":{\"color\":\"#ab63fa\",\"symbol\":\"circle\"},\"mode\":\"markers\",\"name\":\"high\",\"scene\":\"scene\",\"showlegend\":true,\"x\":[-0.12386834621429443],\"y\":[0.4497593343257904],\"z\":[-0.16766807436943054],\"type\":\"scatter3d\"},{\"hovertemplate\":\"color=grey\\u003cbr\\u003e0=%{x}\\u003cbr\\u003e1=%{y}\\u003cbr\\u003e2=%{z}\\u003cextra\\u003e\\u003c\\u002fextra\\u003e\",\"legendgroup\":\"grey\",\"marker\":{\"color\":\"#FFA15A\",\"symbol\":\"circle\"},\"mode\":\"markers\",\"name\":\"grey\",\"scene\":\"scene\",\"showlegend\":true,\"x\":[-0.3941991627216339],\"y\":[0.27849283814430237],\"z\":[0.0013213271740823984],\"type\":\"scatter3d\"},{\"hovertemplate\":\"color=put\\u003cbr\\u003e0=%{x}\\u003cbr\\u003e1=%{y}\\u003cbr\\u003e2=%{z}\\u003cextra\\u003e\\u003c\\u002fextra\\u003e\",\"legendgroup\":\"put\",\"marker\":{\"color\":\"#19d3f3\",\"symbol\":\"circle\"},\"mode\":\"markers\",\"name\":\"put\",\"scene\":\"scene\",\"showlegend\":true,\"x\":[0.2627582550048828],\"y\":[0.5133520364761353],\"z\":[0.5651589035987854],\"type\":\"scatter3d\"},{\"hovertemplate\":\"color=until\\u003cbr\\u003e0=%{x}\\u003cbr\\u003e1=%{y}\\u003cbr\\u003e2=%{z}\\u003cextra\\u003e\\u003c\\u002fextra\\u003e\",\"legendgroup\":\"until\",\"marker\":{\"color\":\"#FF6692\",\"symbol\":\"circle\"},\"mode\":\"markers\",\"name\":\"until\",\"scene\":\"scene\",\"showlegend\":true,\"x\":[-0.10466820746660233],\"y\":[0.555583655834198],\"z\":[0.3212920129299164],\"type\":\"scatter3d\"},{\"hovertemplate\":\"color=iron\\u003cbr\\u003e0=%{x}\\u003cbr\\u003e1=%{y}\\u003cbr\\u003e2=%{z}\\u003cextra\\u003e\\u003c\\u002fextra\\u003e\",\"legendgroup\":\"iron\",\"marker\":{\"color\":\"#B6E880\",\"symbol\":\"circle\"},\"mode\":\"markers\",\"name\":\"iron\",\"scene\":\"scene\",\"showlegend\":true,\"x\":[-0.14158222079277039],\"y\":[0.5067691802978516],\"z\":[-0.1529640555381775],\"type\":\"scatter3d\"},{\"hovertemplate\":\"color=theon\\u003cbr\\u003e0=%{x}\\u003cbr\\u003e1=%{y}\\u003cbr\\u003e2=%{z}\\u003cextra\\u003e\\u003c\\u002fextra\\u003e\",\"legendgroup\":\"theon\",\"marker\":{\"color\":\"#FF97FF\",\"symbol\":\"circle\"},\"mode\":\"markers\",\"name\":\"theon\",\"scene\":\"scene\",\"showlegend\":true,\"x\":[0.18414682149887085],\"y\":[0.37339502573013306],\"z\":[0.21155625581741333],\"type\":\"scatter3d\"},{\"hovertemplate\":\"color=these\\u003cbr\\u003e0=%{x}\\u003cbr\\u003e1=%{y}\\u003cbr\\u003e2=%{z}\\u003cextra\\u003e\\u003c\\u002fextra\\u003e\",\"legendgroup\":\"these\",\"marker\":{\"color\":\"#FECB52\",\"symbol\":\"circle\"},\"mode\":\"markers\",\"name\":\"these\",\"scene\":\"scene\",\"showlegend\":true,\"x\":[0.44820135831832886],\"y\":[0.5746179819107056],\"z\":[-0.3823193609714508],\"type\":\"scatter3d\"},{\"hovertemplate\":\"color=gone\\u003cbr\\u003e0=%{x}\\u003cbr\\u003e1=%{y}\\u003cbr\\u003e2=%{z}\\u003cextra\\u003e\\u003c\\u002fextra\\u003e\",\"legendgroup\":\"gone\",\"marker\":{\"color\":\"#636efa\",\"symbol\":\"circle\"},\"mode\":\"markers\",\"name\":\"gone\",\"scene\":\"scene\",\"showlegend\":true,\"x\":[0.0803065225481987],\"y\":[0.5562268495559692],\"z\":[0.2567059099674225],\"type\":\"scatter3d\"},{\"hovertemplate\":\"color=give\\u003cbr\\u003e0=%{x}\\u003cbr\\u003e1=%{y}\\u003cbr\\u003e2=%{z}\\u003cextra\\u003e\\u003c\\u002fextra\\u003e\",\"legendgroup\":\"give\",\"marker\":{\"color\":\"#EF553B\",\"symbol\":\"circle\"},\"mode\":\"markers\",\"name\":\"give\",\"scene\":\"scene\",\"showlegend\":true,\"x\":[0.5437082648277283],\"y\":[0.4743879437446594],\"z\":[0.3858984708786011],\"type\":\"scatter3d\"},{\"hovertemplate\":\"color=better\\u003cbr\\u003e0=%{x}\\u003cbr\\u003e1=%{y}\\u003cbr\\u003e2=%{z}\\u003cextra\\u003e\\u003c\\u002fextra\\u003e\",\"legendgroup\":\"better\",\"marker\":{\"color\":\"#00cc96\",\"symbol\":\"circle\"},\"mode\":\"markers\",\"name\":\"better\",\"scene\":\"scene\",\"showlegend\":true,\"x\":[0.45024484395980835],\"y\":[0.4568099081516266],\"z\":[0.06124573200941086],\"type\":\"scatter3d\"},{\"hovertemplate\":\"color=between\\u003cbr\\u003e0=%{x}\\u003cbr\\u003e1=%{y}\\u003cbr\\u003e2=%{z}\\u003cextra\\u003e\\u003c\\u002fextra\\u003e\",\"legendgroup\":\"between\",\"marker\":{\"color\":\"#ab63fa\",\"symbol\":\"circle\"},\"mode\":\"markers\",\"name\":\"between\",\"scene\":\"scene\",\"showlegend\":true,\"x\":[-0.35095301270484924],\"y\":[0.36601370573043823],\"z\":[0.23061051964759827],\"type\":\"scatter3d\"},{\"hovertemplate\":\"color=voice\\u003cbr\\u003e0=%{x}\\u003cbr\\u003e1=%{y}\\u003cbr\\u003e2=%{z}\\u003cextra\\u003e\\u003c\\u002fextra\\u003e\",\"legendgroup\":\"voice\",\"marker\":{\"color\":\"#FFA15A\",\"symbol\":\"circle\"},\"mode\":\"markers\",\"name\":\"voice\",\"scene\":\"scene\",\"showlegend\":true,\"x\":[0.036010678857564926],\"y\":[0.30882760882377625],\"z\":[0.3840889632701874],\"type\":\"scatter3d\"},{\"hovertemplate\":\"color=winterfell\\u003cbr\\u003e0=%{x}\\u003cbr\\u003e1=%{y}\\u003cbr\\u003e2=%{z}\\u003cextra\\u003e\\u003c\\u002fextra\\u003e\",\"legendgroup\":\"winterfell\",\"marker\":{\"color\":\"#19d3f3\",\"symbol\":\"circle\"},\"mode\":\"markers\",\"name\":\"winterfell\",\"scene\":\"scene\",\"showlegend\":true,\"x\":[0.32845497131347656],\"y\":[0.7040372490882874],\"z\":[-0.08379417657852173],\"type\":\"scatter3d\"},{\"hovertemplate\":\"color=always\\u003cbr\\u003e0=%{x}\\u003cbr\\u003e1=%{y}\\u003cbr\\u003e2=%{z}\\u003cextra\\u003e\\u003c\\u002fextra\\u003e\",\"legendgroup\":\"always\",\"marker\":{\"color\":\"#FF6692\",\"symbol\":\"circle\"},\"mode\":\"markers\",\"name\":\"always\",\"scene\":\"scene\",\"showlegend\":true,\"x\":[0.4551778733730316],\"y\":[0.40661412477493286],\"z\":[0.13635413348674774],\"type\":\"scatter3d\"},{\"hovertemplate\":\"color=dark\\u003cbr\\u003e0=%{x}\\u003cbr\\u003e1=%{y}\\u003cbr\\u003e2=%{z}\\u003cextra\\u003e\\u003c\\u002fextra\\u003e\",\"legendgroup\":\"dark\",\"marker\":{\"color\":\"#B6E880\",\"symbol\":\"circle\"},\"mode\":\"markers\",\"name\":\"dark\",\"scene\":\"scene\",\"showlegend\":true,\"x\":[-0.4438484013080597],\"y\":[0.42275574803352356],\"z\":[0.012369105592370033],\"type\":\"scatter3d\"},{\"hovertemplate\":\"color=seen\\u003cbr\\u003e0=%{x}\\u003cbr\\u003e1=%{y}\\u003cbr\\u003e2=%{z}\\u003cextra\\u003e\\u003c\\u002fextra\\u003e\",\"legendgroup\":\"seen\",\"marker\":{\"color\":\"#FF97FF\",\"symbol\":\"circle\"},\"mode\":\"markers\",\"name\":\"seen\",\"scene\":\"scene\",\"showlegend\":true,\"x\":[0.14998367428779602],\"y\":[0.560180127620697],\"z\":[0.16837918758392334],\"type\":\"scatter3d\"},{\"hovertemplate\":\"color=end\\u003cbr\\u003e0=%{x}\\u003cbr\\u003e1=%{y}\\u003cbr\\u003e2=%{z}\\u003cextra\\u003e\\u003c\\u002fextra\\u003e\",\"legendgroup\":\"end\",\"marker\":{\"color\":\"#FECB52\",\"symbol\":\"circle\"},\"mode\":\"markers\",\"name\":\"end\",\"scene\":\"scene\",\"showlegend\":true,\"x\":[0.1181267499923706],\"y\":[0.7421616315841675],\"z\":[-0.006222649943083525],\"type\":\"scatter3d\"},{\"hovertemplate\":\"color=shall\\u003cbr\\u003e0=%{x}\\u003cbr\\u003e1=%{y}\\u003cbr\\u003e2=%{z}\\u003cextra\\u003e\\u003c\\u002fextra\\u003e\",\"legendgroup\":\"shall\",\"marker\":{\"color\":\"#636efa\",\"symbol\":\"circle\"},\"mode\":\"markers\",\"name\":\"shall\",\"scene\":\"scene\",\"showlegend\":true,\"x\":[0.5035262107849121],\"y\":[0.5005987882614136],\"z\":[0.06547147780656815],\"type\":\"scatter3d\"},{\"hovertemplate\":\"color=upon\\u003cbr\\u003e0=%{x}\\u003cbr\\u003e1=%{y}\\u003cbr\\u003e2=%{z}\\u003cextra\\u003e\\u003c\\u002fextra\\u003e\",\"legendgroup\":\"upon\",\"marker\":{\"color\":\"#EF553B\",\"symbol\":\"circle\"},\"mode\":\"markers\",\"name\":\"upon\",\"scene\":\"scene\",\"showlegend\":true,\"x\":[-0.051765117794275284],\"y\":[0.4453418552875519],\"z\":[0.07933829724788666],\"type\":\"scatter3d\"},{\"hovertemplate\":\"color=place\\u003cbr\\u003e0=%{x}\\u003cbr\\u003e1=%{y}\\u003cbr\\u003e2=%{z}\\u003cextra\\u003e\\u003c\\u002fextra\\u003e\",\"legendgroup\":\"place\",\"marker\":{\"color\":\"#00cc96\",\"symbol\":\"circle\"},\"mode\":\"markers\",\"name\":\"place\",\"scene\":\"scene\",\"showlegend\":true,\"x\":[0.20555636286735535],\"y\":[0.7866882085800171],\"z\":[-0.08149360120296478],\"type\":\"scatter3d\"},{\"hovertemplate\":\"color=years\\u003cbr\\u003e0=%{x}\\u003cbr\\u003e1=%{y}\\u003cbr\\u003e2=%{z}\\u003cextra\\u003e\\u003c\\u002fextra\\u003e\",\"legendgroup\":\"years\",\"marker\":{\"color\":\"#ab63fa\",\"symbol\":\"circle\"},\"mode\":\"markers\",\"name\":\"years\",\"scene\":\"scene\",\"showlegend\":true,\"x\":[0.30486005544662476],\"y\":[0.6103257536888123],\"z\":[-0.18424558639526367],\"type\":\"scatter3d\"},{\"hovertemplate\":\"color=nothing\\u003cbr\\u003e0=%{x}\\u003cbr\\u003e1=%{y}\\u003cbr\\u003e2=%{z}\\u003cextra\\u003e\\u003c\\u002fextra\\u003e\",\"legendgroup\":\"nothing\",\"marker\":{\"color\":\"#FFA15A\",\"symbol\":\"circle\"},\"mode\":\"markers\",\"name\":\"nothing\",\"scene\":\"scene\",\"showlegend\":true,\"x\":[0.23554997146129608],\"y\":[0.502951979637146],\"z\":[0.052963171154260635],\"type\":\"scatter3d\"},{\"hovertemplate\":\"color=joffrey\\u003cbr\\u003e0=%{x}\\u003cbr\\u003e1=%{y}\\u003cbr\\u003e2=%{z}\\u003cextra\\u003e\\u003c\\u002fextra\\u003e\",\"legendgroup\":\"joffrey\",\"marker\":{\"color\":\"#19d3f3\",\"symbol\":\"circle\"},\"mode\":\"markers\",\"name\":\"joffrey\",\"scene\":\"scene\",\"showlegend\":true,\"x\":[0.4574960172176361],\"y\":[0.4212452173233032],\"z\":[0.19163942337036133],\"type\":\"scatter3d\"},{\"hovertemplate\":\"color=small\\u003cbr\\u003e0=%{x}\\u003cbr\\u003e1=%{y}\\u003cbr\\u003e2=%{z}\\u003cextra\\u003e\\u003c\\u002fextra\\u003e\",\"legendgroup\":\"small\",\"marker\":{\"color\":\"#FF6692\",\"symbol\":\"circle\"},\"mode\":\"markers\",\"name\":\"small\",\"scene\":\"scene\",\"showlegend\":true,\"x\":[-0.12819071114063263],\"y\":[0.3796101212501526],\"z\":[-0.14740876853466034],\"type\":\"scatter3d\"},{\"hovertemplate\":\"color=walls\\u003cbr\\u003e0=%{x}\\u003cbr\\u003e1=%{y}\\u003cbr\\u003e2=%{z}\\u003cextra\\u003e\\u003c\\u002fextra\\u003e\",\"legendgroup\":\"walls\",\"marker\":{\"color\":\"#B6E880\",\"symbol\":\"circle\"},\"mode\":\"markers\",\"name\":\"walls\",\"scene\":\"scene\",\"showlegend\":true,\"x\":[-0.34770360589027405],\"y\":[0.710272490978241],\"z\":[-0.340427964925766],\"type\":\"scatter3d\"},{\"hovertemplate\":\"color=sister\\u003cbr\\u003e0=%{x}\\u003cbr\\u003e1=%{y}\\u003cbr\\u003e2=%{z}\\u003cextra\\u003e\\u003c\\u002fextra\\u003e\",\"legendgroup\":\"sister\",\"marker\":{\"color\":\"#FF97FF\",\"symbol\":\"circle\"},\"mode\":\"markers\",\"name\":\"sister\",\"scene\":\"scene\",\"showlegend\":true,\"x\":[0.5680123567581177],\"y\":[0.4727625846862793],\"z\":[0.18319401144981384],\"type\":\"scatter3d\"},{\"hovertemplate\":\"color=most\\u003cbr\\u003e0=%{x}\\u003cbr\\u003e1=%{y}\\u003cbr\\u003e2=%{z}\\u003cextra\\u003e\\u003c\\u002fextra\\u003e\",\"legendgroup\":\"most\",\"marker\":{\"color\":\"#FECB52\",\"symbol\":\"circle\"},\"mode\":\"markers\",\"name\":\"most\",\"scene\":\"scene\",\"showlegend\":true,\"x\":[0.45051273703575134],\"y\":[0.5022612810134888],\"z\":[-0.29594001173973083],\"type\":\"scatter3d\"},{\"hovertemplate\":\"color=hundred\\u003cbr\\u003e0=%{x}\\u003cbr\\u003e1=%{y}\\u003cbr\\u003e2=%{z}\\u003cextra\\u003e\\u003c\\u002fextra\\u003e\",\"legendgroup\":\"hundred\",\"marker\":{\"color\":\"#636efa\",\"symbol\":\"circle\"},\"mode\":\"markers\",\"name\":\"hundred\",\"scene\":\"scene\",\"showlegend\":true,\"x\":[0.02610444650053978],\"y\":[0.5439192056655884],\"z\":[-0.40108123421669006],\"type\":\"scatter3d\"},{\"hovertemplate\":\"color=sea\\u003cbr\\u003e0=%{x}\\u003cbr\\u003e1=%{y}\\u003cbr\\u003e2=%{z}\\u003cextra\\u003e\\u003c\\u002fextra\\u003e\",\"legendgroup\":\"sea\",\"marker\":{\"color\":\"#EF553B\",\"symbol\":\"circle\"},\"mode\":\"markers\",\"name\":\"sea\",\"scene\":\"scene\",\"showlegend\":true,\"x\":[-0.05343564227223396],\"y\":[0.7223230004310608],\"z\":[-0.33558979630470276],\"type\":\"scatter3d\"},{\"hovertemplate\":\"color=stood\\u003cbr\\u003e0=%{x}\\u003cbr\\u003e1=%{y}\\u003cbr\\u003e2=%{z}\\u003cextra\\u003e\\u003c\\u002fextra\\u003e\",\"legendgroup\":\"stood\",\"marker\":{\"color\":\"#00cc96\",\"symbol\":\"circle\"},\"mode\":\"markers\",\"name\":\"stood\",\"scene\":\"scene\",\"showlegend\":true,\"x\":[-0.2467099279165268],\"y\":[0.4336158335208893],\"z\":[0.19270198047161102],\"type\":\"scatter3d\"},{\"hovertemplate\":\"color=while\\u003cbr\\u003e0=%{x}\\u003cbr\\u003e1=%{y}\\u003cbr\\u003e2=%{z}\\u003cextra\\u003e\\u003c\\u002fextra\\u003e\",\"legendgroup\":\"while\",\"marker\":{\"color\":\"#ab63fa\",\"symbol\":\"circle\"},\"mode\":\"markers\",\"name\":\"while\",\"scene\":\"scene\",\"showlegend\":true,\"x\":[-0.2721863090991974],\"y\":[0.48892682790756226],\"z\":[0.18978583812713623],\"type\":\"scatter3d\"},{\"hovertemplate\":\"color=cold\\u003cbr\\u003e0=%{x}\\u003cbr\\u003e1=%{y}\\u003cbr\\u003e2=%{z}\\u003cextra\\u003e\\u003c\\u002fextra\\u003e\",\"legendgroup\":\"cold\",\"marker\":{\"color\":\"#FFA15A\",\"symbol\":\"circle\"},\"mode\":\"markers\",\"name\":\"cold\",\"scene\":\"scene\",\"showlegend\":true,\"x\":[-0.3124645948410034],\"y\":[0.46040210127830505],\"z\":[0.1802300065755844],\"type\":\"scatter3d\"},{\"hovertemplate\":\"color=right\\u003cbr\\u003e0=%{x}\\u003cbr\\u003e1=%{y}\\u003cbr\\u003e2=%{z}\\u003cextra\\u003e\\u003c\\u002fextra\\u003e\",\"legendgroup\":\"right\",\"marker\":{\"color\":\"#19d3f3\",\"symbol\":\"circle\"},\"mode\":\"markers\",\"name\":\"right\",\"scene\":\"scene\",\"showlegend\":true,\"x\":[-0.06272190809249878],\"y\":[0.5726140141487122],\"z\":[0.3445359170436859],\"type\":\"scatter3d\"},{\"hovertemplate\":\"color=sam\\u003cbr\\u003e0=%{x}\\u003cbr\\u003e1=%{y}\\u003cbr\\u003e2=%{z}\\u003cextra\\u003e\\u003c\\u002fextra\\u003e\",\"legendgroup\":\"sam\",\"marker\":{\"color\":\"#FF6692\",\"symbol\":\"circle\"},\"mode\":\"markers\",\"name\":\"sam\",\"scene\":\"scene\",\"showlegend\":true,\"x\":[-0.0018940845038741827],\"y\":[0.3045041561126709],\"z\":[0.34675559401512146],\"type\":\"scatter3d\"},{\"hovertemplate\":\"color=under\\u003cbr\\u003e0=%{x}\\u003cbr\\u003e1=%{y}\\u003cbr\\u003e2=%{z}\\u003cextra\\u003e\\u003c\\u002fextra\\u003e\",\"legendgroup\":\"under\",\"marker\":{\"color\":\"#B6E880\",\"symbol\":\"circle\"},\"mode\":\"markers\",\"name\":\"under\",\"scene\":\"scene\",\"showlegend\":true,\"x\":[-0.48615407943725586],\"y\":[0.31791239976882935],\"z\":[0.2741781771183014],\"type\":\"scatter3d\"},{\"hovertemplate\":\"color=fingers\\u003cbr\\u003e0=%{x}\\u003cbr\\u003e1=%{y}\\u003cbr\\u003e2=%{z}\\u003cextra\\u003e\\u003c\\u002fextra\\u003e\",\"legendgroup\":\"fingers\",\"marker\":{\"color\":\"#FF97FF\",\"symbol\":\"circle\"},\"mode\":\"markers\",\"name\":\"fingers\",\"scene\":\"scene\",\"showlegend\":true,\"x\":[-0.4528476297855377],\"y\":[0.41505882143974304],\"z\":[0.45670807361602783],\"type\":\"scatter3d\"},{\"hovertemplate\":\"color=green\\u003cbr\\u003e0=%{x}\\u003cbr\\u003e1=%{y}\\u003cbr\\u003e2=%{z}\\u003cextra\\u003e\\u003c\\u002fextra\\u003e\",\"legendgroup\":\"green\",\"marker\":{\"color\":\"#FECB52\",\"symbol\":\"circle\"},\"mode\":\"markers\",\"name\":\"green\",\"scene\":\"scene\",\"showlegend\":true,\"x\":[-0.3876141309738159],\"y\":[0.27851060032844543],\"z\":[-0.15064457058906555],\"type\":\"scatter3d\"},{\"hovertemplate\":\"color=ned\\u003cbr\\u003e0=%{x}\\u003cbr\\u003e1=%{y}\\u003cbr\\u003e2=%{z}\\u003cextra\\u003e\\u003c\\u002fextra\\u003e\",\"legendgroup\":\"ned\",\"marker\":{\"color\":\"#636efa\",\"symbol\":\"circle\"},\"mode\":\"markers\",\"name\":\"ned\",\"scene\":\"scene\",\"showlegend\":true,\"x\":[0.27819037437438965],\"y\":[0.4169660806655884],\"z\":[0.18937227129936218],\"type\":\"scatter3d\"},{\"hovertemplate\":\"color=same\\u003cbr\\u003e0=%{x}\\u003cbr\\u003e1=%{y}\\u003cbr\\u003e2=%{z}\\u003cextra\\u003e\\u003c\\u002fextra\\u003e\",\"legendgroup\":\"same\",\"marker\":{\"color\":\"#EF553B\",\"symbol\":\"circle\"},\"mode\":\"markers\",\"name\":\"same\",\"scene\":\"scene\",\"showlegend\":true,\"x\":[0.28772956132888794],\"y\":[0.5254260897636414],\"z\":[0.1302112638950348],\"type\":\"scatter3d\"},{\"hovertemplate\":\"color=cloak\\u003cbr\\u003e0=%{x}\\u003cbr\\u003e1=%{y}\\u003cbr\\u003e2=%{z}\\u003cextra\\u003e\\u003c\\u002fextra\\u003e\",\"legendgroup\":\"cloak\",\"marker\":{\"color\":\"#00cc96\",\"symbol\":\"circle\"},\"mode\":\"markers\",\"name\":\"cloak\",\"scene\":\"scene\",\"showlegend\":true,\"x\":[-0.3614741265773773],\"y\":[0.3902108669281006],\"z\":[0.3043929636478424],\"type\":\"scatter3d\"},{\"hovertemplate\":\"color=house\\u003cbr\\u003e0=%{x}\\u003cbr\\u003e1=%{y}\\u003cbr\\u003e2=%{z}\\u003cextra\\u003e\\u003c\\u002fextra\\u003e\",\"legendgroup\":\"house\",\"marker\":{\"color\":\"#ab63fa\",\"symbol\":\"circle\"},\"mode\":\"markers\",\"name\":\"house\",\"scene\":\"scene\",\"showlegend\":true,\"x\":[0.2897067368030548],\"y\":[0.44635671377182007],\"z\":[-0.23244929313659668],\"type\":\"scatter3d\"},{\"hovertemplate\":\"color=door\\u003cbr\\u003e0=%{x}\\u003cbr\\u003e1=%{y}\\u003cbr\\u003e2=%{z}\\u003cextra\\u003e\\u003c\\u002fextra\\u003e\",\"legendgroup\":\"door\",\"marker\":{\"color\":\"#FFA15A\",\"symbol\":\"circle\"},\"mode\":\"markers\",\"name\":\"door\",\"scene\":\"scene\",\"showlegend\":true,\"x\":[-0.36465999484062195],\"y\":[0.560904324054718],\"z\":[0.2932654023170471],\"type\":\"scatter3d\"},{\"hovertemplate\":\"color=words\\u003cbr\\u003e0=%{x}\\u003cbr\\u003e1=%{y}\\u003cbr\\u003e2=%{z}\\u003cextra\\u003e\\u003c\\u002fextra\\u003e\",\"legendgroup\":\"words\",\"marker\":{\"color\":\"#19d3f3\",\"symbol\":\"circle\"},\"mode\":\"markers\",\"name\":\"words\",\"scene\":\"scene\",\"showlegend\":true,\"x\":[0.2874468266963959],\"y\":[0.4737016558647156],\"z\":[0.24274826049804688],\"type\":\"scatter3d\"},{\"hovertemplate\":\"color=does\\u003cbr\\u003e0=%{x}\\u003cbr\\u003e1=%{y}\\u003cbr\\u003e2=%{z}\\u003cextra\\u003e\\u003c\\u002fextra\\u003e\",\"legendgroup\":\"does\",\"marker\":{\"color\":\"#FF6692\",\"symbol\":\"circle\"},\"mode\":\"markers\",\"name\":\"does\",\"scene\":\"scene\",\"showlegend\":true,\"x\":[0.6076589226722717],\"y\":[0.3730795383453369],\"z\":[0.24522867798805237],\"type\":\"scatter3d\"},{\"hovertemplate\":\"color=beside\\u003cbr\\u003e0=%{x}\\u003cbr\\u003e1=%{y}\\u003cbr\\u003e2=%{z}\\u003cextra\\u003e\\u003c\\u002fextra\\u003e\",\"legendgroup\":\"beside\",\"marker\":{\"color\":\"#B6E880\",\"symbol\":\"circle\"},\"mode\":\"markers\",\"name\":\"beside\",\"scene\":\"scene\",\"showlegend\":true,\"x\":[-0.22834469377994537],\"y\":[0.37047216296195984],\"z\":[0.38049113750457764],\"type\":\"scatter3d\"},{\"hovertemplate\":\"color=get\\u003cbr\\u003e0=%{x}\\u003cbr\\u003e1=%{y}\\u003cbr\\u003e2=%{z}\\u003cextra\\u003e\\u003c\\u002fextra\\u003e\",\"legendgroup\":\"get\",\"marker\":{\"color\":\"#FF97FF\",\"symbol\":\"circle\"},\"mode\":\"markers\",\"name\":\"get\",\"scene\":\"scene\",\"showlegend\":true,\"x\":[0.18956418335437775],\"y\":[0.6230847835540771],\"z\":[0.41294801235198975],\"type\":\"scatter3d\"},{\"hovertemplate\":\"color=watch\\u003cbr\\u003e0=%{x}\\u003cbr\\u003e1=%{y}\\u003cbr\\u003e2=%{z}\\u003cextra\\u003e\\u003c\\u002fextra\\u003e\",\"legendgroup\":\"watch\",\"marker\":{\"color\":\"#FECB52\",\"symbol\":\"circle\"},\"mode\":\"markers\",\"name\":\"watch\",\"scene\":\"scene\",\"showlegend\":true,\"x\":[0.3246771991252899],\"y\":[0.5857692956924438],\"z\":[-0.06997793912887573],\"type\":\"scatter3d\"},{\"hovertemplate\":\"color=mouth\\u003cbr\\u003e0=%{x}\\u003cbr\\u003e1=%{y}\\u003cbr\\u003e2=%{z}\\u003cextra\\u003e\\u003c\\u002fextra\\u003e\",\"legendgroup\":\"mouth\",\"marker\":{\"color\":\"#636efa\",\"symbol\":\"circle\"},\"mode\":\"markers\",\"name\":\"mouth\",\"scene\":\"scene\",\"showlegend\":true,\"x\":[-0.3032921850681305],\"y\":[0.3894761800765991],\"z\":[0.4916633069515228],\"type\":\"scatter3d\"},{\"hovertemplate\":\"color=few\\u003cbr\\u003e0=%{x}\\u003cbr\\u003e1=%{y}\\u003cbr\\u003e2=%{z}\\u003cextra\\u003e\\u003c\\u002fextra\\u003e\",\"legendgroup\":\"few\",\"marker\":{\"color\":\"#EF553B\",\"symbol\":\"circle\"},\"mode\":\"markers\",\"name\":\"few\",\"scene\":\"scene\",\"showlegend\":true,\"x\":[-0.00944162905216217],\"y\":[0.5492052435874939],\"z\":[-0.21419072151184082],\"type\":\"scatter3d\"},{\"hovertemplate\":\"color=sent\\u003cbr\\u003e0=%{x}\\u003cbr\\u003e1=%{y}\\u003cbr\\u003e2=%{z}\\u003cextra\\u003e\\u003c\\u002fextra\\u003e\",\"legendgroup\":\"sent\",\"marker\":{\"color\":\"#00cc96\",\"symbol\":\"circle\"},\"mode\":\"markers\",\"name\":\"sent\",\"scene\":\"scene\",\"showlegend\":true,\"x\":[0.28196221590042114],\"y\":[0.5347809791564941],\"z\":[0.4091484248638153],\"type\":\"scatter3d\"},{\"hovertemplate\":\"color=city\\u003cbr\\u003e0=%{x}\\u003cbr\\u003e1=%{y}\\u003cbr\\u003e2=%{z}\\u003cextra\\u003e\\u003c\\u002fextra\\u003e\",\"legendgroup\":\"city\",\"marker\":{\"color\":\"#ab63fa\",\"symbol\":\"circle\"},\"mode\":\"markers\",\"name\":\"city\",\"scene\":\"scene\",\"showlegend\":true,\"x\":[0.15622790157794952],\"y\":[0.7770935893058777],\"z\":[-0.40136003494262695],\"type\":\"scatter3d\"},{\"hovertemplate\":\"color=young\\u003cbr\\u003e0=%{x}\\u003cbr\\u003e1=%{y}\\u003cbr\\u003e2=%{z}\\u003cextra\\u003e\\u003c\\u002fextra\\u003e\",\"legendgroup\":\"young\",\"marker\":{\"color\":\"#FFA15A\",\"symbol\":\"circle\"},\"mode\":\"markers\",\"name\":\"young\",\"scene\":\"scene\",\"showlegend\":true,\"x\":[0.4731903076171875],\"y\":[0.29640400409698486],\"z\":[0.028259512037038803],\"type\":\"scatter3d\"},{\"hovertemplate\":\"color=perhaps\\u003cbr\\u003e0=%{x}\\u003cbr\\u003e1=%{y}\\u003cbr\\u003e2=%{z}\\u003cextra\\u003e\\u003c\\u002fextra\\u003e\",\"legendgroup\":\"perhaps\",\"marker\":{\"color\":\"#19d3f3\",\"symbol\":\"circle\"},\"mode\":\"markers\",\"name\":\"perhaps\",\"scene\":\"scene\",\"showlegend\":true,\"x\":[0.6567456722259521],\"y\":[0.48619768023490906],\"z\":[0.13077759742736816],\"type\":\"scatter3d\"},{\"hovertemplate\":\"color=true\\u003cbr\\u003e0=%{x}\\u003cbr\\u003e1=%{y}\\u003cbr\\u003e2=%{z}\\u003cextra\\u003e\\u003c\\u002fextra\\u003e\",\"legendgroup\":\"true\",\"marker\":{\"color\":\"#FF6692\",\"symbol\":\"circle\"},\"mode\":\"markers\",\"name\":\"true\",\"scene\":\"scene\",\"showlegend\":true,\"x\":[0.7265562415122986],\"y\":[0.4245922267436981],\"z\":[-0.0731315016746521],\"type\":\"scatter3d\"},{\"hovertemplate\":\"color=wanted\\u003cbr\\u003e0=%{x}\\u003cbr\\u003e1=%{y}\\u003cbr\\u003e2=%{z}\\u003cextra\\u003e\\u003c\\u002fextra\\u003e\",\"legendgroup\":\"wanted\",\"marker\":{\"color\":\"#B6E880\",\"symbol\":\"circle\"},\"mode\":\"markers\",\"name\":\"wanted\",\"scene\":\"scene\",\"showlegend\":true,\"x\":[0.4470252990722656],\"y\":[0.4536847174167633],\"z\":[0.48558008670806885],\"type\":\"scatter3d\"},{\"hovertemplate\":\"color=such\\u003cbr\\u003e0=%{x}\\u003cbr\\u003e1=%{y}\\u003cbr\\u003e2=%{z}\\u003cextra\\u003e\\u003c\\u002fextra\\u003e\",\"legendgroup\":\"such\",\"marker\":{\"color\":\"#FF97FF\",\"symbol\":\"circle\"},\"mode\":\"markers\",\"name\":\"such\",\"scene\":\"scene\",\"showlegend\":true,\"x\":[0.637700080871582],\"y\":[0.40271174907684326],\"z\":[-0.055585287511348724],\"type\":\"scatter3d\"},{\"hovertemplate\":\"color=each\\u003cbr\\u003e0=%{x}\\u003cbr\\u003e1=%{y}\\u003cbr\\u003e2=%{z}\\u003cextra\\u003e\\u003c\\u002fextra\\u003e\",\"legendgroup\":\"each\",\"marker\":{\"color\":\"#FECB52\",\"symbol\":\"circle\"},\"mode\":\"markers\",\"name\":\"each\",\"scene\":\"scene\",\"showlegend\":true,\"x\":[-0.20657046139240265],\"y\":[0.5283805727958679],\"z\":[-0.0679122805595398],\"type\":\"scatter3d\"},{\"hovertemplate\":\"color=others\\u003cbr\\u003e0=%{x}\\u003cbr\\u003e1=%{y}\\u003cbr\\u003e2=%{z}\\u003cextra\\u003e\\u003c\\u002fextra\\u003e\",\"legendgroup\":\"others\",\"marker\":{\"color\":\"#636efa\",\"symbol\":\"circle\"},\"mode\":\"markers\",\"name\":\"others\",\"scene\":\"scene\",\"showlegend\":true,\"x\":[0.08426697552204132],\"y\":[0.5900885462760925],\"z\":[-0.17672477662563324],\"type\":\"scatter3d\"},{\"hovertemplate\":\"color=leave\\u003cbr\\u003e0=%{x}\\u003cbr\\u003e1=%{y}\\u003cbr\\u003e2=%{z}\\u003cextra\\u003e\\u003c\\u002fextra\\u003e\",\"legendgroup\":\"leave\",\"marker\":{\"color\":\"#EF553B\",\"symbol\":\"circle\"},\"mode\":\"markers\",\"name\":\"leave\",\"scene\":\"scene\",\"showlegend\":true,\"x\":[0.4625701606273651],\"y\":[0.6060706973075867],\"z\":[0.2963607907295227],\"type\":\"scatter3d\"},{\"hovertemplate\":\"color=wind\\u003cbr\\u003e0=%{x}\\u003cbr\\u003e1=%{y}\\u003cbr\\u003e2=%{z}\\u003cextra\\u003e\\u003c\\u002fextra\\u003e\",\"legendgroup\":\"wind\",\"marker\":{\"color\":\"#00cc96\",\"symbol\":\"circle\"},\"mode\":\"markers\",\"name\":\"wind\",\"scene\":\"scene\",\"showlegend\":true,\"x\":[-0.5489226579666138],\"y\":[0.5318597555160522],\"z\":[0.07814714312553406],\"type\":\"scatter3d\"},{\"hovertemplate\":\"color=seven\\u003cbr\\u003e0=%{x}\\u003cbr\\u003e1=%{y}\\u003cbr\\u003e2=%{z}\\u003cextra\\u003e\\u003c\\u002fextra\\u003e\",\"legendgroup\":\"seven\",\"marker\":{\"color\":\"#ab63fa\",\"symbol\":\"circle\"},\"mode\":\"markers\",\"name\":\"seven\",\"scene\":\"scene\",\"showlegend\":true,\"x\":[0.32225000858306885],\"y\":[0.642352283000946],\"z\":[-0.5092468857765198],\"type\":\"scatter3d\"},{\"hovertemplate\":\"color=big\\u003cbr\\u003e0=%{x}\\u003cbr\\u003e1=%{y}\\u003cbr\\u003e2=%{z}\\u003cextra\\u003e\\u003c\\u002fextra\\u003e\",\"legendgroup\":\"big\",\"marker\":{\"color\":\"#FFA15A\",\"symbol\":\"circle\"},\"mode\":\"markers\",\"name\":\"big\",\"scene\":\"scene\",\"showlegend\":true,\"x\":[-0.2274261713027954],\"y\":[0.1949024647474289],\"z\":[0.20114071667194366],\"type\":\"scatter3d\"},{\"hovertemplate\":\"color=light\\u003cbr\\u003e0=%{x}\\u003cbr\\u003e1=%{y}\\u003cbr\\u003e2=%{z}\\u003cextra\\u003e\\u003c\\u002fextra\\u003e\",\"legendgroup\":\"light\",\"marker\":{\"color\":\"#19d3f3\",\"symbol\":\"circle\"},\"mode\":\"markers\",\"name\":\"light\",\"scene\":\"scene\",\"showlegend\":true,\"x\":[-0.314606636762619],\"y\":[0.60990971326828],\"z\":[-0.023600377142429352],\"type\":\"scatter3d\"},{\"hovertemplate\":\"color=sweet\\u003cbr\\u003e0=%{x}\\u003cbr\\u003e1=%{y}\\u003cbr\\u003e2=%{z}\\u003cextra\\u003e\\u003c\\u002fextra\\u003e\",\"legendgroup\":\"sweet\",\"marker\":{\"color\":\"#FF6692\",\"symbol\":\"circle\"},\"mode\":\"markers\",\"name\":\"sweet\",\"scene\":\"scene\",\"showlegend\":true,\"x\":[0.41349270939826965],\"y\":[0.23113420605659485],\"z\":[0.2518848776817322],\"type\":\"scatter3d\"},{\"hovertemplate\":\"color=almost\\u003cbr\\u003e0=%{x}\\u003cbr\\u003e1=%{y}\\u003cbr\\u003e2=%{z}\\u003cextra\\u003e\\u003c\\u002fextra\\u003e\",\"legendgroup\":\"almost\",\"marker\":{\"color\":\"#B6E880\",\"symbol\":\"circle\"},\"mode\":\"markers\",\"name\":\"almost\",\"scene\":\"scene\",\"showlegend\":true,\"x\":[-0.21660713851451874],\"y\":[0.3292354941368103],\"z\":[0.41502657532691956],\"type\":\"scatter3d\"},{\"hovertemplate\":\"color=daughter\\u003cbr\\u003e0=%{x}\\u003cbr\\u003e1=%{y}\\u003cbr\\u003e2=%{z}\\u003cextra\\u003e\\u003c\\u002fextra\\u003e\",\"legendgroup\":\"daughter\",\"marker\":{\"color\":\"#FF97FF\",\"symbol\":\"circle\"},\"mode\":\"markers\",\"name\":\"daughter\",\"scene\":\"scene\",\"showlegend\":true,\"x\":[0.5309489369392395],\"y\":[0.31929439306259155],\"z\":[0.040686532855033875],\"type\":\"scatter3d\"},{\"hovertemplate\":\"color=yes\\u003cbr\\u003e0=%{x}\\u003cbr\\u003e1=%{y}\\u003cbr\\u003e2=%{z}\\u003cextra\\u003e\\u003c\\u002fextra\\u003e\",\"legendgroup\":\"yes\",\"marker\":{\"color\":\"#FECB52\",\"symbol\":\"circle\"},\"mode\":\"markers\",\"name\":\"yes\",\"scene\":\"scene\",\"showlegend\":true,\"x\":[0.7388969659805298],\"y\":[0.27473196387290955],\"z\":[0.21037515997886658],\"type\":\"scatter3d\"},{\"hovertemplate\":\"color=arms\\u003cbr\\u003e0=%{x}\\u003cbr\\u003e1=%{y}\\u003cbr\\u003e2=%{z}\\u003cextra\\u003e\\u003c\\u002fextra\\u003e\",\"legendgroup\":\"arms\",\"marker\":{\"color\":\"#636efa\",\"symbol\":\"circle\"},\"mode\":\"markers\",\"name\":\"arms\",\"scene\":\"scene\",\"showlegend\":true,\"x\":[-0.16301874816417694],\"y\":[0.44721484184265137],\"z\":[0.2714560925960541],\"type\":\"scatter3d\"},{\"hovertemplate\":\"color=side\\u003cbr\\u003e0=%{x}\\u003cbr\\u003e1=%{y}\\u003cbr\\u003e2=%{z}\\u003cextra\\u003e\\u003c\\u002fextra\\u003e\",\"legendgroup\":\"side\",\"marker\":{\"color\":\"#EF553B\",\"symbol\":\"circle\"},\"mode\":\"markers\",\"name\":\"side\",\"scene\":\"scene\",\"showlegend\":true,\"x\":[-0.24094779789447784],\"y\":[0.6655584573745728],\"z\":[0.16124361753463745],\"type\":\"scatter3d\"},{\"hovertemplate\":\"color=lost\\u003cbr\\u003e0=%{x}\\u003cbr\\u003e1=%{y}\\u003cbr\\u003e2=%{z}\\u003cextra\\u003e\\u003c\\u002fextra\\u003e\",\"legendgroup\":\"lost\",\"marker\":{\"color\":\"#00cc96\",\"symbol\":\"circle\"},\"mode\":\"markers\",\"name\":\"lost\",\"scene\":\"scene\",\"showlegend\":true,\"x\":[0.2655833959579468],\"y\":[0.5318915247917175],\"z\":[0.21744638681411743],\"type\":\"scatter3d\"},{\"hovertemplate\":\"color=felt\\u003cbr\\u003e0=%{x}\\u003cbr\\u003e1=%{y}\\u003cbr\\u003e2=%{z}\\u003cextra\\u003e\\u003c\\u002fextra\\u003e\",\"legendgroup\":\"felt\",\"marker\":{\"color\":\"#ab63fa\",\"symbol\":\"circle\"},\"mode\":\"markers\",\"name\":\"felt\",\"scene\":\"scene\",\"showlegend\":true,\"x\":[-0.10753720998764038],\"y\":[0.32235920429229736],\"z\":[0.5849422812461853],\"type\":\"scatter3d\"},{\"hovertemplate\":\"color=davos\\u003cbr\\u003e0=%{x}\\u003cbr\\u003e1=%{y}\\u003cbr\\u003e2=%{z}\\u003cextra\\u003e\\u003c\\u002fextra\\u003e\",\"legendgroup\":\"davos\",\"marker\":{\"color\":\"#FFA15A\",\"symbol\":\"circle\"},\"mode\":\"markers\",\"name\":\"davos\",\"scene\":\"scene\",\"showlegend\":true,\"x\":[0.1219521313905716],\"y\":[0.3336942791938782],\"z\":[-0.04416640102863312],\"type\":\"scatter3d\"},{\"hovertemplate\":\"color=brothers\\u003cbr\\u003e0=%{x}\\u003cbr\\u003e1=%{y}\\u003cbr\\u003e2=%{z}\\u003cextra\\u003e\\u003c\\u002fextra\\u003e\",\"legendgroup\":\"brothers\",\"marker\":{\"color\":\"#19d3f3\",\"symbol\":\"circle\"},\"mode\":\"markers\",\"name\":\"brothers\",\"scene\":\"scene\",\"showlegend\":true,\"x\":[0.2979944348335266],\"y\":[0.6335824131965637],\"z\":[-0.17844796180725098],\"type\":\"scatter3d\"},{\"hovertemplate\":\"color=very\\u003cbr\\u003e0=%{x}\\u003cbr\\u003e1=%{y}\\u003cbr\\u003e2=%{z}\\u003cextra\\u003e\\u003c\\u002fextra\\u003e\",\"legendgroup\":\"very\",\"marker\":{\"color\":\"#FF6692\",\"symbol\":\"circle\"},\"mode\":\"markers\",\"name\":\"very\",\"scene\":\"scene\",\"showlegend\":true,\"x\":[0.3319042921066284],\"y\":[0.35787802934646606],\"z\":[0.09598846733570099],\"type\":\"scatter3d\"},{\"hovertemplate\":\"color=herself\\u003cbr\\u003e0=%{x}\\u003cbr\\u003e1=%{y}\\u003cbr\\u003e2=%{z}\\u003cextra\\u003e\\u003c\\u002fextra\\u003e\",\"legendgroup\":\"herself\",\"marker\":{\"color\":\"#B6E880\",\"symbol\":\"circle\"},\"mode\":\"markers\",\"name\":\"herself\",\"scene\":\"scene\",\"showlegend\":true,\"x\":[0.08408599346876144],\"y\":[0.37192365527153015],\"z\":[0.2806617021560669],\"type\":\"scatter3d\"},{\"hovertemplate\":\"color=brought\\u003cbr\\u003e0=%{x}\\u003cbr\\u003e1=%{y}\\u003cbr\\u003e2=%{z}\\u003cextra\\u003e\\u003c\\u002fextra\\u003e\",\"legendgroup\":\"brought\",\"marker\":{\"color\":\"#FF97FF\",\"symbol\":\"circle\"},\"mode\":\"markers\",\"name\":\"brought\",\"scene\":\"scene\",\"showlegend\":true,\"x\":[0.20185674726963043],\"y\":[0.37098291516304016],\"z\":[0.39225882291793823],\"type\":\"scatter3d\"},{\"hovertemplate\":\"color=children\\u003cbr\\u003e0=%{x}\\u003cbr\\u003e1=%{y}\\u003cbr\\u003e2=%{z}\\u003cextra\\u003e\\u003c\\u002fextra\\u003e\",\"legendgroup\":\"children\",\"marker\":{\"color\":\"#FECB52\",\"symbol\":\"circle\"},\"mode\":\"markers\",\"name\":\"children\",\"scene\":\"scene\",\"showlegend\":true,\"x\":[0.3723803162574768],\"y\":[0.6245827078819275],\"z\":[-0.28237906098365784],\"type\":\"scatter3d\"}],                        {\"template\":{\"data\":{\"histogram2dcontour\":[{\"type\":\"histogram2dcontour\",\"colorbar\":{\"outlinewidth\":0,\"ticks\":\"\"},\"colorscale\":[[0.0,\"#0d0887\"],[0.1111111111111111,\"#46039f\"],[0.2222222222222222,\"#7201a8\"],[0.3333333333333333,\"#9c179e\"],[0.4444444444444444,\"#bd3786\"],[0.5555555555555556,\"#d8576b\"],[0.6666666666666666,\"#ed7953\"],[0.7777777777777778,\"#fb9f3a\"],[0.8888888888888888,\"#fdca26\"],[1.0,\"#f0f921\"]]}],\"choropleth\":[{\"type\":\"choropleth\",\"colorbar\":{\"outlinewidth\":0,\"ticks\":\"\"}}],\"histogram2d\":[{\"type\":\"histogram2d\",\"colorbar\":{\"outlinewidth\":0,\"ticks\":\"\"},\"colorscale\":[[0.0,\"#0d0887\"],[0.1111111111111111,\"#46039f\"],[0.2222222222222222,\"#7201a8\"],[0.3333333333333333,\"#9c179e\"],[0.4444444444444444,\"#bd3786\"],[0.5555555555555556,\"#d8576b\"],[0.6666666666666666,\"#ed7953\"],[0.7777777777777778,\"#fb9f3a\"],[0.8888888888888888,\"#fdca26\"],[1.0,\"#f0f921\"]]}],\"heatmap\":[{\"type\":\"heatmap\",\"colorbar\":{\"outlinewidth\":0,\"ticks\":\"\"},\"colorscale\":[[0.0,\"#0d0887\"],[0.1111111111111111,\"#46039f\"],[0.2222222222222222,\"#7201a8\"],[0.3333333333333333,\"#9c179e\"],[0.4444444444444444,\"#bd3786\"],[0.5555555555555556,\"#d8576b\"],[0.6666666666666666,\"#ed7953\"],[0.7777777777777778,\"#fb9f3a\"],[0.8888888888888888,\"#fdca26\"],[1.0,\"#f0f921\"]]}],\"heatmapgl\":[{\"type\":\"heatmapgl\",\"colorbar\":{\"outlinewidth\":0,\"ticks\":\"\"},\"colorscale\":[[0.0,\"#0d0887\"],[0.1111111111111111,\"#46039f\"],[0.2222222222222222,\"#7201a8\"],[0.3333333333333333,\"#9c179e\"],[0.4444444444444444,\"#bd3786\"],[0.5555555555555556,\"#d8576b\"],[0.6666666666666666,\"#ed7953\"],[0.7777777777777778,\"#fb9f3a\"],[0.8888888888888888,\"#fdca26\"],[1.0,\"#f0f921\"]]}],\"contourcarpet\":[{\"type\":\"contourcarpet\",\"colorbar\":{\"outlinewidth\":0,\"ticks\":\"\"}}],\"contour\":[{\"type\":\"contour\",\"colorbar\":{\"outlinewidth\":0,\"ticks\":\"\"},\"colorscale\":[[0.0,\"#0d0887\"],[0.1111111111111111,\"#46039f\"],[0.2222222222222222,\"#7201a8\"],[0.3333333333333333,\"#9c179e\"],[0.4444444444444444,\"#bd3786\"],[0.5555555555555556,\"#d8576b\"],[0.6666666666666666,\"#ed7953\"],[0.7777777777777778,\"#fb9f3a\"],[0.8888888888888888,\"#fdca26\"],[1.0,\"#f0f921\"]]}],\"surface\":[{\"type\":\"surface\",\"colorbar\":{\"outlinewidth\":0,\"ticks\":\"\"},\"colorscale\":[[0.0,\"#0d0887\"],[0.1111111111111111,\"#46039f\"],[0.2222222222222222,\"#7201a8\"],[0.3333333333333333,\"#9c179e\"],[0.4444444444444444,\"#bd3786\"],[0.5555555555555556,\"#d8576b\"],[0.6666666666666666,\"#ed7953\"],[0.7777777777777778,\"#fb9f3a\"],[0.8888888888888888,\"#fdca26\"],[1.0,\"#f0f921\"]]}],\"mesh3d\":[{\"type\":\"mesh3d\",\"colorbar\":{\"outlinewidth\":0,\"ticks\":\"\"}}],\"scatter\":[{\"fillpattern\":{\"fillmode\":\"overlay\",\"size\":10,\"solidity\":0.2},\"type\":\"scatter\"}],\"parcoords\":[{\"type\":\"parcoords\",\"line\":{\"colorbar\":{\"outlinewidth\":0,\"ticks\":\"\"}}}],\"scatterpolargl\":[{\"type\":\"scatterpolargl\",\"marker\":{\"colorbar\":{\"outlinewidth\":0,\"ticks\":\"\"}}}],\"bar\":[{\"error_x\":{\"color\":\"#2a3f5f\"},\"error_y\":{\"color\":\"#2a3f5f\"},\"marker\":{\"line\":{\"color\":\"#E5ECF6\",\"width\":0.5},\"pattern\":{\"fillmode\":\"overlay\",\"size\":10,\"solidity\":0.2}},\"type\":\"bar\"}],\"scattergeo\":[{\"type\":\"scattergeo\",\"marker\":{\"colorbar\":{\"outlinewidth\":0,\"ticks\":\"\"}}}],\"scatterpolar\":[{\"type\":\"scatterpolar\",\"marker\":{\"colorbar\":{\"outlinewidth\":0,\"ticks\":\"\"}}}],\"histogram\":[{\"marker\":{\"pattern\":{\"fillmode\":\"overlay\",\"size\":10,\"solidity\":0.2}},\"type\":\"histogram\"}],\"scattergl\":[{\"type\":\"scattergl\",\"marker\":{\"colorbar\":{\"outlinewidth\":0,\"ticks\":\"\"}}}],\"scatter3d\":[{\"type\":\"scatter3d\",\"line\":{\"colorbar\":{\"outlinewidth\":0,\"ticks\":\"\"}},\"marker\":{\"colorbar\":{\"outlinewidth\":0,\"ticks\":\"\"}}}],\"scattermapbox\":[{\"type\":\"scattermapbox\",\"marker\":{\"colorbar\":{\"outlinewidth\":0,\"ticks\":\"\"}}}],\"scatterternary\":[{\"type\":\"scatterternary\",\"marker\":{\"colorbar\":{\"outlinewidth\":0,\"ticks\":\"\"}}}],\"scattercarpet\":[{\"type\":\"scattercarpet\",\"marker\":{\"colorbar\":{\"outlinewidth\":0,\"ticks\":\"\"}}}],\"carpet\":[{\"aaxis\":{\"endlinecolor\":\"#2a3f5f\",\"gridcolor\":\"white\",\"linecolor\":\"white\",\"minorgridcolor\":\"white\",\"startlinecolor\":\"#2a3f5f\"},\"baxis\":{\"endlinecolor\":\"#2a3f5f\",\"gridcolor\":\"white\",\"linecolor\":\"white\",\"minorgridcolor\":\"white\",\"startlinecolor\":\"#2a3f5f\"},\"type\":\"carpet\"}],\"table\":[{\"cells\":{\"fill\":{\"color\":\"#EBF0F8\"},\"line\":{\"color\":\"white\"}},\"header\":{\"fill\":{\"color\":\"#C8D4E3\"},\"line\":{\"color\":\"white\"}},\"type\":\"table\"}],\"barpolar\":[{\"marker\":{\"line\":{\"color\":\"#E5ECF6\",\"width\":0.5},\"pattern\":{\"fillmode\":\"overlay\",\"size\":10,\"solidity\":0.2}},\"type\":\"barpolar\"}],\"pie\":[{\"automargin\":true,\"type\":\"pie\"}]},\"layout\":{\"autotypenumbers\":\"strict\",\"colorway\":[\"#636efa\",\"#EF553B\",\"#00cc96\",\"#ab63fa\",\"#FFA15A\",\"#19d3f3\",\"#FF6692\",\"#B6E880\",\"#FF97FF\",\"#FECB52\"],\"font\":{\"color\":\"#2a3f5f\"},\"hovermode\":\"closest\",\"hoverlabel\":{\"align\":\"left\"},\"paper_bgcolor\":\"white\",\"plot_bgcolor\":\"#E5ECF6\",\"polar\":{\"bgcolor\":\"#E5ECF6\",\"angularaxis\":{\"gridcolor\":\"white\",\"linecolor\":\"white\",\"ticks\":\"\"},\"radialaxis\":{\"gridcolor\":\"white\",\"linecolor\":\"white\",\"ticks\":\"\"}},\"ternary\":{\"bgcolor\":\"#E5ECF6\",\"aaxis\":{\"gridcolor\":\"white\",\"linecolor\":\"white\",\"ticks\":\"\"},\"baxis\":{\"gridcolor\":\"white\",\"linecolor\":\"white\",\"ticks\":\"\"},\"caxis\":{\"gridcolor\":\"white\",\"linecolor\":\"white\",\"ticks\":\"\"}},\"coloraxis\":{\"colorbar\":{\"outlinewidth\":0,\"ticks\":\"\"}},\"colorscale\":{\"sequential\":[[0.0,\"#0d0887\"],[0.1111111111111111,\"#46039f\"],[0.2222222222222222,\"#7201a8\"],[0.3333333333333333,\"#9c179e\"],[0.4444444444444444,\"#bd3786\"],[0.5555555555555556,\"#d8576b\"],[0.6666666666666666,\"#ed7953\"],[0.7777777777777778,\"#fb9f3a\"],[0.8888888888888888,\"#fdca26\"],[1.0,\"#f0f921\"]],\"sequentialminus\":[[0.0,\"#0d0887\"],[0.1111111111111111,\"#46039f\"],[0.2222222222222222,\"#7201a8\"],[0.3333333333333333,\"#9c179e\"],[0.4444444444444444,\"#bd3786\"],[0.5555555555555556,\"#d8576b\"],[0.6666666666666666,\"#ed7953\"],[0.7777777777777778,\"#fb9f3a\"],[0.8888888888888888,\"#fdca26\"],[1.0,\"#f0f921\"]],\"diverging\":[[0,\"#8e0152\"],[0.1,\"#c51b7d\"],[0.2,\"#de77ae\"],[0.3,\"#f1b6da\"],[0.4,\"#fde0ef\"],[0.5,\"#f7f7f7\"],[0.6,\"#e6f5d0\"],[0.7,\"#b8e186\"],[0.8,\"#7fbc41\"],[0.9,\"#4d9221\"],[1,\"#276419\"]]},\"xaxis\":{\"gridcolor\":\"white\",\"linecolor\":\"white\",\"ticks\":\"\",\"title\":{\"standoff\":15},\"zerolinecolor\":\"white\",\"automargin\":true,\"zerolinewidth\":2},\"yaxis\":{\"gridcolor\":\"white\",\"linecolor\":\"white\",\"ticks\":\"\",\"title\":{\"standoff\":15},\"zerolinecolor\":\"white\",\"automargin\":true,\"zerolinewidth\":2},\"scene\":{\"xaxis\":{\"backgroundcolor\":\"#E5ECF6\",\"gridcolor\":\"white\",\"linecolor\":\"white\",\"showbackground\":true,\"ticks\":\"\",\"zerolinecolor\":\"white\",\"gridwidth\":2},\"yaxis\":{\"backgroundcolor\":\"#E5ECF6\",\"gridcolor\":\"white\",\"linecolor\":\"white\",\"showbackground\":true,\"ticks\":\"\",\"zerolinecolor\":\"white\",\"gridwidth\":2},\"zaxis\":{\"backgroundcolor\":\"#E5ECF6\",\"gridcolor\":\"white\",\"linecolor\":\"white\",\"showbackground\":true,\"ticks\":\"\",\"zerolinecolor\":\"white\",\"gridwidth\":2}},\"shapedefaults\":{\"line\":{\"color\":\"#2a3f5f\"}},\"annotationdefaults\":{\"arrowcolor\":\"#2a3f5f\",\"arrowhead\":0,\"arrowwidth\":1},\"geo\":{\"bgcolor\":\"white\",\"landcolor\":\"#E5ECF6\",\"subunitcolor\":\"white\",\"showland\":true,\"showlakes\":true,\"lakecolor\":\"white\"},\"title\":{\"x\":0.05},\"mapbox\":{\"style\":\"light\"}}},\"scene\":{\"domain\":{\"x\":[0.0,1.0],\"y\":[0.0,1.0]},\"xaxis\":{\"title\":{\"text\":\"0\"}},\"yaxis\":{\"title\":{\"text\":\"1\"}},\"zaxis\":{\"title\":{\"text\":\"2\"}}},\"legend\":{\"title\":{\"text\":\"color\"},\"tracegroupgap\":0},\"margin\":{\"t\":60}},                        {\"responsive\": true}                    ).then(function(){\n",
              "                            \n",
              "var gd = document.getElementById('eb5cd065-1078-4b50-844b-f5584392d769');\n",
              "var x = new MutationObserver(function (mutations, observer) {{\n",
              "        var display = window.getComputedStyle(gd).display;\n",
              "        if (!display || display === 'none') {{\n",
              "            console.log([gd, 'removed!']);\n",
              "            Plotly.purge(gd);\n",
              "            observer.disconnect();\n",
              "        }}\n",
              "}});\n",
              "\n",
              "// Listen for the removal of the full notebook cells\n",
              "var notebookContainer = gd.closest('#notebook-container');\n",
              "if (notebookContainer) {{\n",
              "    x.observe(notebookContainer, {childList: true});\n",
              "}}\n",
              "\n",
              "// Listen for the clearing of the current output cell\n",
              "var outputEl = gd.closest('.output');\n",
              "if (outputEl) {{\n",
              "    x.observe(outputEl, {childList: true});\n",
              "}}\n",
              "\n",
              "                        })                };                            </script>        </div>\n",
              "</body>\n",
              "</html>"
            ]
          },
          "metadata": {}
        }
      ]
    },
    {
      "cell_type": "code",
      "source": [],
      "metadata": {
        "id": "XcLte-80oaKE"
      },
      "execution_count": null,
      "outputs": []
    }
  ]
}